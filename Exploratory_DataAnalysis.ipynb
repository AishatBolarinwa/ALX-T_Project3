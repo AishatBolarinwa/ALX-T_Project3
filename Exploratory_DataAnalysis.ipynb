{
 "cells": [
  {
   "cell_type": "markdown",
   "metadata": {},
   "source": [
    ">**NB**: The project was conducted by **BOLARINWA AISHAT** in partial fulfilment of the requirements for the **ALX-T Data Analyst Udacity NanoDegree Program**"
   ]
  },
  {
   "cell_type": "markdown",
   "metadata": {},
   "source": [
    "# Part I - [PROSPER]('https://www.prosper.com/') LOAN DATA EXPLORATION\n",
    "## by BOLARINWA AISHAT\n",
    "\n",
    "## Introduction\n",
    "> **Prosper Marketplace, Inc.** is a San Francisco, California-based company in the peer-to-peer lending industry. Prosper Funding LLC, one of its subsidiaries, operates Prosper.com, a website where individuals can either invest in personal loans or request to borrow money.\n",
    "Prosper Marketplace is America's first peer-to-peer lending marketplace, with over seven billion dollars in funded loans. Borrowers request personal loans on Prosper and investors (individual or institutional) can fund anywhere from two thousand to forty thousand dollars per loan request. Investors can consider borrowers’ credit scores, ratings, and histories and the category of the loan. Prosper handles the servicing of the loan and collects and distributes borrower payments and interest back to the loan investors.\n",
    "Read more on the company [HERE]('https://en.wikipedia.org/wiki/Prosper_Marketplace')\n",
    "\n",
    "> **Prosper Loan Data** : This [data set]('https://s3.amazonaws.com/udacity-hosted-downloads/ud651/prosperLoanData.csv') contains 113,937 loans with 81 variables on each loan, including loan amount, borrower rate (or interest rate), current loan status, borrower income, and many others. This [data dictionary]('https://www.google.com/url?q=https://docs.google.com/spreadsheet/ccc?key%3D0AllIqIyvWZdadDd5NTlqZ1pBMHlsUjdrOTZHaVBuSlE%26usp%3Dsharing&sa=D&source=editors&ust=1666072219001097&usg=AOvVaw01_FnjF4p7Oc8-HzrgArFd') explains the variables in the data set.\n",
    "\n",
    "\n",
    "## Preliminary Wrangling\n"
   ]
  },
  {
   "cell_type": "code",
   "execution_count": 1,
   "metadata": {},
   "outputs": [],
   "source": [
    "#Importing all necessary libraries\n",
    "\n",
    "import numpy as np\n",
    "import pandas as pd\n",
    "import matplotlib.pyplot as plt\n",
    "import seaborn as sns\n",
    "\n",
    "%matplotlib inline\n",
    "\n",
    "#Blocking warnings from final output\n",
    "import warnings\n",
    "warnings.simplefilter(\"ignore\")"
   ]
  },
  {
   "cell_type": "code",
   "execution_count": 2,
   "metadata": {
    "scrolled": false
   },
   "outputs": [
    {
     "data": {
      "text/html": [
       "<div>\n",
       "<style scoped>\n",
       "    .dataframe tbody tr th:only-of-type {\n",
       "        vertical-align: middle;\n",
       "    }\n",
       "\n",
       "    .dataframe tbody tr th {\n",
       "        vertical-align: top;\n",
       "    }\n",
       "\n",
       "    .dataframe thead th {\n",
       "        text-align: right;\n",
       "    }\n",
       "</style>\n",
       "<table border=\"1\" class=\"dataframe\">\n",
       "  <thead>\n",
       "    <tr style=\"text-align: right;\">\n",
       "      <th></th>\n",
       "      <th>ListingKey</th>\n",
       "      <th>ListingNumber</th>\n",
       "      <th>ListingCreationDate</th>\n",
       "      <th>CreditGrade</th>\n",
       "      <th>Term</th>\n",
       "      <th>LoanStatus</th>\n",
       "      <th>ClosedDate</th>\n",
       "      <th>BorrowerAPR</th>\n",
       "      <th>BorrowerRate</th>\n",
       "      <th>LenderYield</th>\n",
       "      <th>...</th>\n",
       "      <th>LP_ServiceFees</th>\n",
       "      <th>LP_CollectionFees</th>\n",
       "      <th>LP_GrossPrincipalLoss</th>\n",
       "      <th>LP_NetPrincipalLoss</th>\n",
       "      <th>LP_NonPrincipalRecoverypayments</th>\n",
       "      <th>PercentFunded</th>\n",
       "      <th>Recommendations</th>\n",
       "      <th>InvestmentFromFriendsCount</th>\n",
       "      <th>InvestmentFromFriendsAmount</th>\n",
       "      <th>Investors</th>\n",
       "    </tr>\n",
       "  </thead>\n",
       "  <tbody>\n",
       "    <tr>\n",
       "      <th>0</th>\n",
       "      <td>1021339766868145413AB3B</td>\n",
       "      <td>193129</td>\n",
       "      <td>2007-08-26 19:09:29.263000000</td>\n",
       "      <td>C</td>\n",
       "      <td>36</td>\n",
       "      <td>Completed</td>\n",
       "      <td>2009-08-14 00:00:00</td>\n",
       "      <td>0.16516</td>\n",
       "      <td>0.1580</td>\n",
       "      <td>0.1380</td>\n",
       "      <td>...</td>\n",
       "      <td>-133.18</td>\n",
       "      <td>0.0</td>\n",
       "      <td>0.0</td>\n",
       "      <td>0.0</td>\n",
       "      <td>0.0</td>\n",
       "      <td>1.0</td>\n",
       "      <td>0</td>\n",
       "      <td>0</td>\n",
       "      <td>0.0</td>\n",
       "      <td>258</td>\n",
       "    </tr>\n",
       "    <tr>\n",
       "      <th>1</th>\n",
       "      <td>10273602499503308B223C1</td>\n",
       "      <td>1209647</td>\n",
       "      <td>2014-02-27 08:28:07.900000000</td>\n",
       "      <td>NaN</td>\n",
       "      <td>36</td>\n",
       "      <td>Current</td>\n",
       "      <td>NaN</td>\n",
       "      <td>0.12016</td>\n",
       "      <td>0.0920</td>\n",
       "      <td>0.0820</td>\n",
       "      <td>...</td>\n",
       "      <td>0.00</td>\n",
       "      <td>0.0</td>\n",
       "      <td>0.0</td>\n",
       "      <td>0.0</td>\n",
       "      <td>0.0</td>\n",
       "      <td>1.0</td>\n",
       "      <td>0</td>\n",
       "      <td>0</td>\n",
       "      <td>0.0</td>\n",
       "      <td>1</td>\n",
       "    </tr>\n",
       "    <tr>\n",
       "      <th>2</th>\n",
       "      <td>0EE9337825851032864889A</td>\n",
       "      <td>81716</td>\n",
       "      <td>2007-01-05 15:00:47.090000000</td>\n",
       "      <td>HR</td>\n",
       "      <td>36</td>\n",
       "      <td>Completed</td>\n",
       "      <td>2009-12-17 00:00:00</td>\n",
       "      <td>0.28269</td>\n",
       "      <td>0.2750</td>\n",
       "      <td>0.2400</td>\n",
       "      <td>...</td>\n",
       "      <td>-24.20</td>\n",
       "      <td>0.0</td>\n",
       "      <td>0.0</td>\n",
       "      <td>0.0</td>\n",
       "      <td>0.0</td>\n",
       "      <td>1.0</td>\n",
       "      <td>0</td>\n",
       "      <td>0</td>\n",
       "      <td>0.0</td>\n",
       "      <td>41</td>\n",
       "    </tr>\n",
       "    <tr>\n",
       "      <th>3</th>\n",
       "      <td>0EF5356002482715299901A</td>\n",
       "      <td>658116</td>\n",
       "      <td>2012-10-22 11:02:35.010000000</td>\n",
       "      <td>NaN</td>\n",
       "      <td>36</td>\n",
       "      <td>Current</td>\n",
       "      <td>NaN</td>\n",
       "      <td>0.12528</td>\n",
       "      <td>0.0974</td>\n",
       "      <td>0.0874</td>\n",
       "      <td>...</td>\n",
       "      <td>-108.01</td>\n",
       "      <td>0.0</td>\n",
       "      <td>0.0</td>\n",
       "      <td>0.0</td>\n",
       "      <td>0.0</td>\n",
       "      <td>1.0</td>\n",
       "      <td>0</td>\n",
       "      <td>0</td>\n",
       "      <td>0.0</td>\n",
       "      <td>158</td>\n",
       "    </tr>\n",
       "    <tr>\n",
       "      <th>4</th>\n",
       "      <td>0F023589499656230C5E3E2</td>\n",
       "      <td>909464</td>\n",
       "      <td>2013-09-14 18:38:39.097000000</td>\n",
       "      <td>NaN</td>\n",
       "      <td>36</td>\n",
       "      <td>Current</td>\n",
       "      <td>NaN</td>\n",
       "      <td>0.24614</td>\n",
       "      <td>0.2085</td>\n",
       "      <td>0.1985</td>\n",
       "      <td>...</td>\n",
       "      <td>-60.27</td>\n",
       "      <td>0.0</td>\n",
       "      <td>0.0</td>\n",
       "      <td>0.0</td>\n",
       "      <td>0.0</td>\n",
       "      <td>1.0</td>\n",
       "      <td>0</td>\n",
       "      <td>0</td>\n",
       "      <td>0.0</td>\n",
       "      <td>20</td>\n",
       "    </tr>\n",
       "    <tr>\n",
       "      <th>5</th>\n",
       "      <td>0F05359734824199381F61D</td>\n",
       "      <td>1074836</td>\n",
       "      <td>2013-12-14 08:26:37.093000000</td>\n",
       "      <td>NaN</td>\n",
       "      <td>60</td>\n",
       "      <td>Current</td>\n",
       "      <td>NaN</td>\n",
       "      <td>0.15425</td>\n",
       "      <td>0.1314</td>\n",
       "      <td>0.1214</td>\n",
       "      <td>...</td>\n",
       "      <td>-25.33</td>\n",
       "      <td>0.0</td>\n",
       "      <td>0.0</td>\n",
       "      <td>0.0</td>\n",
       "      <td>0.0</td>\n",
       "      <td>1.0</td>\n",
       "      <td>0</td>\n",
       "      <td>0</td>\n",
       "      <td>0.0</td>\n",
       "      <td>1</td>\n",
       "    </tr>\n",
       "    <tr>\n",
       "      <th>6</th>\n",
       "      <td>0F0A3576754255009D63151</td>\n",
       "      <td>750899</td>\n",
       "      <td>2013-04-12 09:52:56.147000000</td>\n",
       "      <td>NaN</td>\n",
       "      <td>36</td>\n",
       "      <td>Current</td>\n",
       "      <td>NaN</td>\n",
       "      <td>0.31032</td>\n",
       "      <td>0.2712</td>\n",
       "      <td>0.2612</td>\n",
       "      <td>...</td>\n",
       "      <td>-22.95</td>\n",
       "      <td>0.0</td>\n",
       "      <td>0.0</td>\n",
       "      <td>0.0</td>\n",
       "      <td>0.0</td>\n",
       "      <td>1.0</td>\n",
       "      <td>0</td>\n",
       "      <td>0</td>\n",
       "      <td>0.0</td>\n",
       "      <td>1</td>\n",
       "    </tr>\n",
       "    <tr>\n",
       "      <th>7</th>\n",
       "      <td>0F1035772717087366F9EA7</td>\n",
       "      <td>768193</td>\n",
       "      <td>2013-05-05 06:49:27.493000000</td>\n",
       "      <td>NaN</td>\n",
       "      <td>36</td>\n",
       "      <td>Current</td>\n",
       "      <td>NaN</td>\n",
       "      <td>0.23939</td>\n",
       "      <td>0.2019</td>\n",
       "      <td>0.1919</td>\n",
       "      <td>...</td>\n",
       "      <td>-69.21</td>\n",
       "      <td>0.0</td>\n",
       "      <td>0.0</td>\n",
       "      <td>0.0</td>\n",
       "      <td>0.0</td>\n",
       "      <td>1.0</td>\n",
       "      <td>0</td>\n",
       "      <td>0</td>\n",
       "      <td>0.0</td>\n",
       "      <td>1</td>\n",
       "    </tr>\n",
       "    <tr>\n",
       "      <th>8</th>\n",
       "      <td>0F043596202561788EA13D5</td>\n",
       "      <td>1023355</td>\n",
       "      <td>2013-12-02 10:43:39.117000000</td>\n",
       "      <td>NaN</td>\n",
       "      <td>36</td>\n",
       "      <td>Current</td>\n",
       "      <td>NaN</td>\n",
       "      <td>0.07620</td>\n",
       "      <td>0.0629</td>\n",
       "      <td>0.0529</td>\n",
       "      <td>...</td>\n",
       "      <td>-16.77</td>\n",
       "      <td>0.0</td>\n",
       "      <td>0.0</td>\n",
       "      <td>0.0</td>\n",
       "      <td>0.0</td>\n",
       "      <td>1.0</td>\n",
       "      <td>0</td>\n",
       "      <td>0</td>\n",
       "      <td>0.0</td>\n",
       "      <td>1</td>\n",
       "    </tr>\n",
       "    <tr>\n",
       "      <th>9</th>\n",
       "      <td>0F043596202561788EA13D5</td>\n",
       "      <td>1023355</td>\n",
       "      <td>2013-12-02 10:43:39.117000000</td>\n",
       "      <td>NaN</td>\n",
       "      <td>36</td>\n",
       "      <td>Current</td>\n",
       "      <td>NaN</td>\n",
       "      <td>0.07620</td>\n",
       "      <td>0.0629</td>\n",
       "      <td>0.0529</td>\n",
       "      <td>...</td>\n",
       "      <td>-16.77</td>\n",
       "      <td>0.0</td>\n",
       "      <td>0.0</td>\n",
       "      <td>0.0</td>\n",
       "      <td>0.0</td>\n",
       "      <td>1.0</td>\n",
       "      <td>0</td>\n",
       "      <td>0</td>\n",
       "      <td>0.0</td>\n",
       "      <td>1</td>\n",
       "    </tr>\n",
       "  </tbody>\n",
       "</table>\n",
       "<p>10 rows × 81 columns</p>\n",
       "</div>"
      ],
      "text/plain": [
       "                ListingKey  ListingNumber            ListingCreationDate  \\\n",
       "0  1021339766868145413AB3B         193129  2007-08-26 19:09:29.263000000   \n",
       "1  10273602499503308B223C1        1209647  2014-02-27 08:28:07.900000000   \n",
       "2  0EE9337825851032864889A          81716  2007-01-05 15:00:47.090000000   \n",
       "3  0EF5356002482715299901A         658116  2012-10-22 11:02:35.010000000   \n",
       "4  0F023589499656230C5E3E2         909464  2013-09-14 18:38:39.097000000   \n",
       "5  0F05359734824199381F61D        1074836  2013-12-14 08:26:37.093000000   \n",
       "6  0F0A3576754255009D63151         750899  2013-04-12 09:52:56.147000000   \n",
       "7  0F1035772717087366F9EA7         768193  2013-05-05 06:49:27.493000000   \n",
       "8  0F043596202561788EA13D5        1023355  2013-12-02 10:43:39.117000000   \n",
       "9  0F043596202561788EA13D5        1023355  2013-12-02 10:43:39.117000000   \n",
       "\n",
       "  CreditGrade  Term LoanStatus           ClosedDate  BorrowerAPR  \\\n",
       "0           C    36  Completed  2009-08-14 00:00:00      0.16516   \n",
       "1         NaN    36    Current                  NaN      0.12016   \n",
       "2          HR    36  Completed  2009-12-17 00:00:00      0.28269   \n",
       "3         NaN    36    Current                  NaN      0.12528   \n",
       "4         NaN    36    Current                  NaN      0.24614   \n",
       "5         NaN    60    Current                  NaN      0.15425   \n",
       "6         NaN    36    Current                  NaN      0.31032   \n",
       "7         NaN    36    Current                  NaN      0.23939   \n",
       "8         NaN    36    Current                  NaN      0.07620   \n",
       "9         NaN    36    Current                  NaN      0.07620   \n",
       "\n",
       "   BorrowerRate  LenderYield  ...  LP_ServiceFees  LP_CollectionFees  \\\n",
       "0        0.1580       0.1380  ...         -133.18                0.0   \n",
       "1        0.0920       0.0820  ...            0.00                0.0   \n",
       "2        0.2750       0.2400  ...          -24.20                0.0   \n",
       "3        0.0974       0.0874  ...         -108.01                0.0   \n",
       "4        0.2085       0.1985  ...          -60.27                0.0   \n",
       "5        0.1314       0.1214  ...          -25.33                0.0   \n",
       "6        0.2712       0.2612  ...          -22.95                0.0   \n",
       "7        0.2019       0.1919  ...          -69.21                0.0   \n",
       "8        0.0629       0.0529  ...          -16.77                0.0   \n",
       "9        0.0629       0.0529  ...          -16.77                0.0   \n",
       "\n",
       "   LP_GrossPrincipalLoss  LP_NetPrincipalLoss LP_NonPrincipalRecoverypayments  \\\n",
       "0                    0.0                  0.0                             0.0   \n",
       "1                    0.0                  0.0                             0.0   \n",
       "2                    0.0                  0.0                             0.0   \n",
       "3                    0.0                  0.0                             0.0   \n",
       "4                    0.0                  0.0                             0.0   \n",
       "5                    0.0                  0.0                             0.0   \n",
       "6                    0.0                  0.0                             0.0   \n",
       "7                    0.0                  0.0                             0.0   \n",
       "8                    0.0                  0.0                             0.0   \n",
       "9                    0.0                  0.0                             0.0   \n",
       "\n",
       "   PercentFunded  Recommendations InvestmentFromFriendsCount  \\\n",
       "0            1.0                0                          0   \n",
       "1            1.0                0                          0   \n",
       "2            1.0                0                          0   \n",
       "3            1.0                0                          0   \n",
       "4            1.0                0                          0   \n",
       "5            1.0                0                          0   \n",
       "6            1.0                0                          0   \n",
       "7            1.0                0                          0   \n",
       "8            1.0                0                          0   \n",
       "9            1.0                0                          0   \n",
       "\n",
       "  InvestmentFromFriendsAmount Investors  \n",
       "0                         0.0       258  \n",
       "1                         0.0         1  \n",
       "2                         0.0        41  \n",
       "3                         0.0       158  \n",
       "4                         0.0        20  \n",
       "5                         0.0         1  \n",
       "6                         0.0         1  \n",
       "7                         0.0         1  \n",
       "8                         0.0         1  \n",
       "9                         0.0         1  \n",
       "\n",
       "[10 rows x 81 columns]"
      ]
     },
     "execution_count": 2,
     "metadata": {},
     "output_type": "execute_result"
    }
   ],
   "source": [
    "#Loading the dataset\n",
    "\n",
    "df = pd.read_csv('ProsperLoanData.csv')\n",
    "df.head(10)"
   ]
  },
  {
   "cell_type": "code",
   "execution_count": 3,
   "metadata": {
    "scrolled": true
   },
   "outputs": [
    {
     "data": {
      "text/plain": [
       "(113937, 81)"
      ]
     },
     "execution_count": 3,
     "metadata": {},
     "output_type": "execute_result"
    }
   ],
   "source": [
    "df.shape"
   ]
  },
  {
   "cell_type": "code",
   "execution_count": 4,
   "metadata": {},
   "outputs": [
    {
     "data": {
      "text/plain": [
       "Index(['ListingKey', 'ListingNumber', 'ListingCreationDate', 'CreditGrade',\n",
       "       'Term', 'LoanStatus', 'ClosedDate', 'BorrowerAPR', 'BorrowerRate',\n",
       "       'LenderYield', 'EstimatedEffectiveYield', 'EstimatedLoss',\n",
       "       'EstimatedReturn', 'ProsperRating (numeric)', 'ProsperRating (Alpha)',\n",
       "       'ProsperScore', 'ListingCategory (numeric)', 'BorrowerState',\n",
       "       'Occupation', 'EmploymentStatus', 'EmploymentStatusDuration',\n",
       "       'IsBorrowerHomeowner', 'CurrentlyInGroup', 'GroupKey',\n",
       "       'DateCreditPulled', 'CreditScoreRangeLower', 'CreditScoreRangeUpper',\n",
       "       'FirstRecordedCreditLine', 'CurrentCreditLines', 'OpenCreditLines',\n",
       "       'TotalCreditLinespast7years', 'OpenRevolvingAccounts',\n",
       "       'OpenRevolvingMonthlyPayment', 'InquiriesLast6Months', 'TotalInquiries',\n",
       "       'CurrentDelinquencies', 'AmountDelinquent', 'DelinquenciesLast7Years',\n",
       "       'PublicRecordsLast10Years', 'PublicRecordsLast12Months',\n",
       "       'RevolvingCreditBalance', 'BankcardUtilization',\n",
       "       'AvailableBankcardCredit', 'TotalTrades',\n",
       "       'TradesNeverDelinquent (percentage)', 'TradesOpenedLast6Months',\n",
       "       'DebtToIncomeRatio', 'IncomeRange', 'IncomeVerifiable',\n",
       "       'StatedMonthlyIncome', 'LoanKey', 'TotalProsperLoans',\n",
       "       'TotalProsperPaymentsBilled', 'OnTimeProsperPayments',\n",
       "       'ProsperPaymentsLessThanOneMonthLate',\n",
       "       'ProsperPaymentsOneMonthPlusLate', 'ProsperPrincipalBorrowed',\n",
       "       'ProsperPrincipalOutstanding', 'ScorexChangeAtTimeOfListing',\n",
       "       'LoanCurrentDaysDelinquent', 'LoanFirstDefaultedCycleNumber',\n",
       "       'LoanMonthsSinceOrigination', 'LoanNumber', 'LoanOriginalAmount',\n",
       "       'LoanOriginationDate', 'LoanOriginationQuarter', 'MemberKey',\n",
       "       'MonthlyLoanPayment', 'LP_CustomerPayments',\n",
       "       'LP_CustomerPrincipalPayments', 'LP_InterestandFees', 'LP_ServiceFees',\n",
       "       'LP_CollectionFees', 'LP_GrossPrincipalLoss', 'LP_NetPrincipalLoss',\n",
       "       'LP_NonPrincipalRecoverypayments', 'PercentFunded', 'Recommendations',\n",
       "       'InvestmentFromFriendsCount', 'InvestmentFromFriendsAmount',\n",
       "       'Investors'],\n",
       "      dtype='object')"
      ]
     },
     "execution_count": 4,
     "metadata": {},
     "output_type": "execute_result"
    }
   ],
   "source": [
    "df.columns"
   ]
  },
  {
   "cell_type": "markdown",
   "metadata": {},
   "source": [
    "Not all the 81 columns in the dataset is relevant for the analysis. Using the [data dictionary]('https://docs.google.com/spreadsheets/d/1gDyi_L4UvIrLTEC6Wri5nbaMmkGmLQBk-Yx3z0XDEtI/edit#gid=0') as a guide, we will be selecting only the columns that will be needed at one point or the other during the data analysis process."
   ]
  },
  {
   "cell_type": "code",
   "execution_count": 5,
   "metadata": {},
   "outputs": [
    {
     "data": {
      "text/html": [
       "<div>\n",
       "<style scoped>\n",
       "    .dataframe tbody tr th:only-of-type {\n",
       "        vertical-align: middle;\n",
       "    }\n",
       "\n",
       "    .dataframe tbody tr th {\n",
       "        vertical-align: top;\n",
       "    }\n",
       "\n",
       "    .dataframe thead th {\n",
       "        text-align: right;\n",
       "    }\n",
       "</style>\n",
       "<table border=\"1\" class=\"dataframe\">\n",
       "  <thead>\n",
       "    <tr style=\"text-align: right;\">\n",
       "      <th></th>\n",
       "      <th>ListingNumber</th>\n",
       "      <th>Term</th>\n",
       "      <th>LoanStatus</th>\n",
       "      <th>BorrowerAPR</th>\n",
       "      <th>BorrowerRate</th>\n",
       "      <th>LenderYield</th>\n",
       "      <th>ProsperRating (Alpha)</th>\n",
       "      <th>ProsperScore</th>\n",
       "      <th>ListingCategory (numeric)</th>\n",
       "      <th>BorrowerState</th>\n",
       "      <th>Occupation</th>\n",
       "      <th>EmploymentStatus</th>\n",
       "      <th>EmploymentStatusDuration</th>\n",
       "      <th>IsBorrowerHomeowner</th>\n",
       "      <th>IncomeRange</th>\n",
       "      <th>StatedMonthlyIncome</th>\n",
       "      <th>LoanOriginalAmount</th>\n",
       "      <th>LoanOriginationDate</th>\n",
       "    </tr>\n",
       "  </thead>\n",
       "  <tbody>\n",
       "    <tr>\n",
       "      <th>0</th>\n",
       "      <td>193129</td>\n",
       "      <td>36</td>\n",
       "      <td>Completed</td>\n",
       "      <td>0.16516</td>\n",
       "      <td>0.1580</td>\n",
       "      <td>0.1380</td>\n",
       "      <td>NaN</td>\n",
       "      <td>NaN</td>\n",
       "      <td>0</td>\n",
       "      <td>CO</td>\n",
       "      <td>Other</td>\n",
       "      <td>Self-employed</td>\n",
       "      <td>2.0</td>\n",
       "      <td>True</td>\n",
       "      <td>$25,000-49,999</td>\n",
       "      <td>3083.333333</td>\n",
       "      <td>9425</td>\n",
       "      <td>2007-09-12 00:00:00</td>\n",
       "    </tr>\n",
       "    <tr>\n",
       "      <th>1</th>\n",
       "      <td>1209647</td>\n",
       "      <td>36</td>\n",
       "      <td>Current</td>\n",
       "      <td>0.12016</td>\n",
       "      <td>0.0920</td>\n",
       "      <td>0.0820</td>\n",
       "      <td>A</td>\n",
       "      <td>7.0</td>\n",
       "      <td>2</td>\n",
       "      <td>CO</td>\n",
       "      <td>Professional</td>\n",
       "      <td>Employed</td>\n",
       "      <td>44.0</td>\n",
       "      <td>False</td>\n",
       "      <td>$50,000-74,999</td>\n",
       "      <td>6125.000000</td>\n",
       "      <td>10000</td>\n",
       "      <td>2014-03-03 00:00:00</td>\n",
       "    </tr>\n",
       "    <tr>\n",
       "      <th>2</th>\n",
       "      <td>81716</td>\n",
       "      <td>36</td>\n",
       "      <td>Completed</td>\n",
       "      <td>0.28269</td>\n",
       "      <td>0.2750</td>\n",
       "      <td>0.2400</td>\n",
       "      <td>NaN</td>\n",
       "      <td>NaN</td>\n",
       "      <td>0</td>\n",
       "      <td>GA</td>\n",
       "      <td>Other</td>\n",
       "      <td>Not available</td>\n",
       "      <td>NaN</td>\n",
       "      <td>False</td>\n",
       "      <td>Not displayed</td>\n",
       "      <td>2083.333333</td>\n",
       "      <td>3001</td>\n",
       "      <td>2007-01-17 00:00:00</td>\n",
       "    </tr>\n",
       "    <tr>\n",
       "      <th>3</th>\n",
       "      <td>658116</td>\n",
       "      <td>36</td>\n",
       "      <td>Current</td>\n",
       "      <td>0.12528</td>\n",
       "      <td>0.0974</td>\n",
       "      <td>0.0874</td>\n",
       "      <td>A</td>\n",
       "      <td>9.0</td>\n",
       "      <td>16</td>\n",
       "      <td>GA</td>\n",
       "      <td>Skilled Labor</td>\n",
       "      <td>Employed</td>\n",
       "      <td>113.0</td>\n",
       "      <td>True</td>\n",
       "      <td>$25,000-49,999</td>\n",
       "      <td>2875.000000</td>\n",
       "      <td>10000</td>\n",
       "      <td>2012-11-01 00:00:00</td>\n",
       "    </tr>\n",
       "    <tr>\n",
       "      <th>4</th>\n",
       "      <td>909464</td>\n",
       "      <td>36</td>\n",
       "      <td>Current</td>\n",
       "      <td>0.24614</td>\n",
       "      <td>0.2085</td>\n",
       "      <td>0.1985</td>\n",
       "      <td>D</td>\n",
       "      <td>4.0</td>\n",
       "      <td>2</td>\n",
       "      <td>MN</td>\n",
       "      <td>Executive</td>\n",
       "      <td>Employed</td>\n",
       "      <td>44.0</td>\n",
       "      <td>True</td>\n",
       "      <td>$100,000+</td>\n",
       "      <td>9583.333333</td>\n",
       "      <td>15000</td>\n",
       "      <td>2013-09-20 00:00:00</td>\n",
       "    </tr>\n",
       "  </tbody>\n",
       "</table>\n",
       "</div>"
      ],
      "text/plain": [
       "   ListingNumber  Term LoanStatus  BorrowerAPR  BorrowerRate  LenderYield  \\\n",
       "0         193129    36  Completed      0.16516        0.1580       0.1380   \n",
       "1        1209647    36    Current      0.12016        0.0920       0.0820   \n",
       "2          81716    36  Completed      0.28269        0.2750       0.2400   \n",
       "3         658116    36    Current      0.12528        0.0974       0.0874   \n",
       "4         909464    36    Current      0.24614        0.2085       0.1985   \n",
       "\n",
       "  ProsperRating (Alpha)  ProsperScore  ListingCategory (numeric)  \\\n",
       "0                   NaN           NaN                          0   \n",
       "1                     A           7.0                          2   \n",
       "2                   NaN           NaN                          0   \n",
       "3                     A           9.0                         16   \n",
       "4                     D           4.0                          2   \n",
       "\n",
       "  BorrowerState     Occupation EmploymentStatus  EmploymentStatusDuration  \\\n",
       "0            CO          Other    Self-employed                       2.0   \n",
       "1            CO   Professional         Employed                      44.0   \n",
       "2            GA          Other    Not available                       NaN   \n",
       "3            GA  Skilled Labor         Employed                     113.0   \n",
       "4            MN      Executive         Employed                      44.0   \n",
       "\n",
       "   IsBorrowerHomeowner     IncomeRange  StatedMonthlyIncome  \\\n",
       "0                 True  $25,000-49,999          3083.333333   \n",
       "1                False  $50,000-74,999          6125.000000   \n",
       "2                False   Not displayed          2083.333333   \n",
       "3                 True  $25,000-49,999          2875.000000   \n",
       "4                 True       $100,000+          9583.333333   \n",
       "\n",
       "   LoanOriginalAmount  LoanOriginationDate  \n",
       "0                9425  2007-09-12 00:00:00  \n",
       "1               10000  2014-03-03 00:00:00  \n",
       "2                3001  2007-01-17 00:00:00  \n",
       "3               10000  2012-11-01 00:00:00  \n",
       "4               15000  2013-09-20 00:00:00  "
      ]
     },
     "execution_count": 5,
     "metadata": {},
     "output_type": "execute_result"
    }
   ],
   "source": [
    "#After thorough assessment of the columns and the information they carry, \n",
    "#we will be selecting the ones necessary for our analysis.\n",
    "\n",
    "df = df[['ListingNumber','Term','LoanStatus','BorrowerAPR','BorrowerRate','LenderYield','ProsperRating (Alpha)',\n",
    "         'ProsperScore', 'ListingCategory (numeric)','BorrowerState','Occupation','EmploymentStatus',\n",
    "         'EmploymentStatusDuration','IsBorrowerHomeowner','IncomeRange','StatedMonthlyIncome',\n",
    "         'LoanOriginalAmount','LoanOriginationDate']]\n",
    "df.head()"
   ]
  },
  {
   "cell_type": "code",
   "execution_count": 6,
   "metadata": {},
   "outputs": [
    {
     "data": {
      "text/plain": [
       "False"
      ]
     },
     "execution_count": 6,
     "metadata": {},
     "output_type": "execute_result"
    }
   ],
   "source": [
    "#Checking for duplicates\n",
    "\n",
    "df.duplicated().any()"
   ]
  },
  {
   "cell_type": "markdown",
   "metadata": {},
   "source": [
    "There are no duplicates in the dataset."
   ]
  },
  {
   "cell_type": "code",
   "execution_count": 7,
   "metadata": {
    "scrolled": false
   },
   "outputs": [
    {
     "name": "stdout",
     "output_type": "stream",
     "text": [
      "<class 'pandas.core.frame.DataFrame'>\n",
      "RangeIndex: 113937 entries, 0 to 113936\n",
      "Data columns (total 18 columns):\n",
      " #   Column                     Non-Null Count   Dtype  \n",
      "---  ------                     --------------   -----  \n",
      " 0   ListingNumber              113937 non-null  int64  \n",
      " 1   Term                       113937 non-null  int64  \n",
      " 2   LoanStatus                 113937 non-null  object \n",
      " 3   BorrowerAPR                113912 non-null  float64\n",
      " 4   BorrowerRate               113937 non-null  float64\n",
      " 5   LenderYield                113937 non-null  float64\n",
      " 6   ProsperRating (Alpha)      84853 non-null   object \n",
      " 7   ProsperScore               84853 non-null   float64\n",
      " 8   ListingCategory (numeric)  113937 non-null  int64  \n",
      " 9   BorrowerState              108422 non-null  object \n",
      " 10  Occupation                 110349 non-null  object \n",
      " 11  EmploymentStatus           111682 non-null  object \n",
      " 12  EmploymentStatusDuration   106312 non-null  float64\n",
      " 13  IsBorrowerHomeowner        113937 non-null  bool   \n",
      " 14  IncomeRange                113937 non-null  object \n",
      " 15  StatedMonthlyIncome        113937 non-null  float64\n",
      " 16  LoanOriginalAmount         113937 non-null  int64  \n",
      " 17  LoanOriginationDate        113937 non-null  object \n",
      "dtypes: bool(1), float64(6), int64(4), object(7)\n",
      "memory usage: 14.9+ MB\n"
     ]
    }
   ],
   "source": [
    "df.info()"
   ]
  },
  {
   "cell_type": "markdown",
   "metadata": {},
   "source": [
    "## Data Cleaning."
   ]
  },
  {
   "cell_type": "markdown",
   "metadata": {},
   "source": [
    ">Now that we have our dataset, streamlined to what we need, let's do some cleaning before analysis."
   ]
  },
  {
   "cell_type": "code",
   "execution_count": 8,
   "metadata": {},
   "outputs": [
    {
     "data": {
      "text/html": [
       "<div>\n",
       "<style scoped>\n",
       "    .dataframe tbody tr th:only-of-type {\n",
       "        vertical-align: middle;\n",
       "    }\n",
       "\n",
       "    .dataframe tbody tr th {\n",
       "        vertical-align: top;\n",
       "    }\n",
       "\n",
       "    .dataframe thead th {\n",
       "        text-align: right;\n",
       "    }\n",
       "</style>\n",
       "<table border=\"1\" class=\"dataframe\">\n",
       "  <thead>\n",
       "    <tr style=\"text-align: right;\">\n",
       "      <th></th>\n",
       "      <th>ListingNumber</th>\n",
       "      <th>Term</th>\n",
       "      <th>LoanStatus</th>\n",
       "      <th>BorrowerAPR</th>\n",
       "      <th>BorrowerRate</th>\n",
       "      <th>LenderYield</th>\n",
       "      <th>ProsperRating (Alpha)</th>\n",
       "      <th>ProsperScore</th>\n",
       "      <th>ListingCategory (numeric)</th>\n",
       "      <th>BorrowerState</th>\n",
       "      <th>Occupation</th>\n",
       "      <th>EmploymentStatus</th>\n",
       "      <th>EmploymentStatusDuration</th>\n",
       "      <th>IsBorrowerHomeowner</th>\n",
       "      <th>IncomeRange</th>\n",
       "      <th>StatedMonthlyIncome</th>\n",
       "      <th>LoanOriginalAmount</th>\n",
       "      <th>LoanOriginationDate</th>\n",
       "    </tr>\n",
       "  </thead>\n",
       "  <tbody>\n",
       "    <tr>\n",
       "      <th>0</th>\n",
       "      <td>193129</td>\n",
       "      <td>36</td>\n",
       "      <td>Completed</td>\n",
       "      <td>0.16516</td>\n",
       "      <td>0.1580</td>\n",
       "      <td>0.1380</td>\n",
       "      <td>NaN</td>\n",
       "      <td>NaN</td>\n",
       "      <td>0</td>\n",
       "      <td>CO</td>\n",
       "      <td>Other</td>\n",
       "      <td>Self-employed</td>\n",
       "      <td>2.0</td>\n",
       "      <td>True</td>\n",
       "      <td>$25,000-49,999</td>\n",
       "      <td>3083.333333</td>\n",
       "      <td>9425</td>\n",
       "      <td>2007-09-12 00:00:00</td>\n",
       "    </tr>\n",
       "    <tr>\n",
       "      <th>1</th>\n",
       "      <td>1209647</td>\n",
       "      <td>36</td>\n",
       "      <td>Current</td>\n",
       "      <td>0.12016</td>\n",
       "      <td>0.0920</td>\n",
       "      <td>0.0820</td>\n",
       "      <td>A</td>\n",
       "      <td>7.0</td>\n",
       "      <td>2</td>\n",
       "      <td>CO</td>\n",
       "      <td>Professional</td>\n",
       "      <td>Employed</td>\n",
       "      <td>44.0</td>\n",
       "      <td>False</td>\n",
       "      <td>$50,000-74,999</td>\n",
       "      <td>6125.000000</td>\n",
       "      <td>10000</td>\n",
       "      <td>2014-03-03 00:00:00</td>\n",
       "    </tr>\n",
       "    <tr>\n",
       "      <th>2</th>\n",
       "      <td>81716</td>\n",
       "      <td>36</td>\n",
       "      <td>Completed</td>\n",
       "      <td>0.28269</td>\n",
       "      <td>0.2750</td>\n",
       "      <td>0.2400</td>\n",
       "      <td>NaN</td>\n",
       "      <td>NaN</td>\n",
       "      <td>0</td>\n",
       "      <td>GA</td>\n",
       "      <td>Other</td>\n",
       "      <td>Not available</td>\n",
       "      <td>NaN</td>\n",
       "      <td>False</td>\n",
       "      <td>Not displayed</td>\n",
       "      <td>2083.333333</td>\n",
       "      <td>3001</td>\n",
       "      <td>2007-01-17 00:00:00</td>\n",
       "    </tr>\n",
       "    <tr>\n",
       "      <th>3</th>\n",
       "      <td>658116</td>\n",
       "      <td>36</td>\n",
       "      <td>Current</td>\n",
       "      <td>0.12528</td>\n",
       "      <td>0.0974</td>\n",
       "      <td>0.0874</td>\n",
       "      <td>A</td>\n",
       "      <td>9.0</td>\n",
       "      <td>16</td>\n",
       "      <td>GA</td>\n",
       "      <td>Skilled Labor</td>\n",
       "      <td>Employed</td>\n",
       "      <td>113.0</td>\n",
       "      <td>True</td>\n",
       "      <td>$25,000-49,999</td>\n",
       "      <td>2875.000000</td>\n",
       "      <td>10000</td>\n",
       "      <td>2012-11-01 00:00:00</td>\n",
       "    </tr>\n",
       "    <tr>\n",
       "      <th>4</th>\n",
       "      <td>909464</td>\n",
       "      <td>36</td>\n",
       "      <td>Current</td>\n",
       "      <td>0.24614</td>\n",
       "      <td>0.2085</td>\n",
       "      <td>0.1985</td>\n",
       "      <td>D</td>\n",
       "      <td>4.0</td>\n",
       "      <td>2</td>\n",
       "      <td>MN</td>\n",
       "      <td>Executive</td>\n",
       "      <td>Employed</td>\n",
       "      <td>44.0</td>\n",
       "      <td>True</td>\n",
       "      <td>$100,000+</td>\n",
       "      <td>9583.333333</td>\n",
       "      <td>15000</td>\n",
       "      <td>2013-09-20 00:00:00</td>\n",
       "    </tr>\n",
       "  </tbody>\n",
       "</table>\n",
       "</div>"
      ],
      "text/plain": [
       "   ListingNumber  Term LoanStatus  BorrowerAPR  BorrowerRate  LenderYield  \\\n",
       "0         193129    36  Completed      0.16516        0.1580       0.1380   \n",
       "1        1209647    36    Current      0.12016        0.0920       0.0820   \n",
       "2          81716    36  Completed      0.28269        0.2750       0.2400   \n",
       "3         658116    36    Current      0.12528        0.0974       0.0874   \n",
       "4         909464    36    Current      0.24614        0.2085       0.1985   \n",
       "\n",
       "  ProsperRating (Alpha)  ProsperScore  ListingCategory (numeric)  \\\n",
       "0                   NaN           NaN                          0   \n",
       "1                     A           7.0                          2   \n",
       "2                   NaN           NaN                          0   \n",
       "3                     A           9.0                         16   \n",
       "4                     D           4.0                          2   \n",
       "\n",
       "  BorrowerState     Occupation EmploymentStatus  EmploymentStatusDuration  \\\n",
       "0            CO          Other    Self-employed                       2.0   \n",
       "1            CO   Professional         Employed                      44.0   \n",
       "2            GA          Other    Not available                       NaN   \n",
       "3            GA  Skilled Labor         Employed                     113.0   \n",
       "4            MN      Executive         Employed                      44.0   \n",
       "\n",
       "   IsBorrowerHomeowner     IncomeRange  StatedMonthlyIncome  \\\n",
       "0                 True  $25,000-49,999          3083.333333   \n",
       "1                False  $50,000-74,999          6125.000000   \n",
       "2                False   Not displayed          2083.333333   \n",
       "3                 True  $25,000-49,999          2875.000000   \n",
       "4                 True       $100,000+          9583.333333   \n",
       "\n",
       "   LoanOriginalAmount  LoanOriginationDate  \n",
       "0                9425  2007-09-12 00:00:00  \n",
       "1               10000  2014-03-03 00:00:00  \n",
       "2                3001  2007-01-17 00:00:00  \n",
       "3               10000  2012-11-01 00:00:00  \n",
       "4               15000  2013-09-20 00:00:00  "
      ]
     },
     "execution_count": 8,
     "metadata": {},
     "output_type": "execute_result"
    }
   ],
   "source": [
    "#Making a copy of the dataset for cleaning\n",
    "\n",
    "dff = df.copy()\n",
    "\n",
    "dff.head()"
   ]
  },
  {
   "cell_type": "code",
   "execution_count": 9,
   "metadata": {},
   "outputs": [
    {
     "data": {
      "text/plain": [
       "ListingNumber                False\n",
       "Term                         False\n",
       "LoanStatus                   False\n",
       "BorrowerAPR                   True\n",
       "BorrowerRate                 False\n",
       "LenderYield                  False\n",
       "ProsperRating (Alpha)         True\n",
       "ProsperScore                  True\n",
       "ListingCategory (numeric)    False\n",
       "BorrowerState                 True\n",
       "Occupation                    True\n",
       "EmploymentStatus              True\n",
       "EmploymentStatusDuration      True\n",
       "IsBorrowerHomeowner          False\n",
       "IncomeRange                  False\n",
       "StatedMonthlyIncome          False\n",
       "LoanOriginalAmount           False\n",
       "LoanOriginationDate          False\n",
       "dtype: bool"
      ]
     },
     "execution_count": 9,
     "metadata": {},
     "output_type": "execute_result"
    }
   ],
   "source": [
    "#Checking for null values\n",
    "\n",
    "dff.isna().any()"
   ]
  },
  {
   "cell_type": "markdown",
   "metadata": {},
   "source": [
    "Some null values exist in the dataset, let's remove them."
   ]
  },
  {
   "cell_type": "code",
   "execution_count": 10,
   "metadata": {},
   "outputs": [
    {
     "data": {
      "text/plain": [
       "ListingNumber                False\n",
       "Term                         False\n",
       "LoanStatus                   False\n",
       "BorrowerAPR                  False\n",
       "BorrowerRate                 False\n",
       "LenderYield                  False\n",
       "ProsperRating (Alpha)        False\n",
       "ProsperScore                 False\n",
       "ListingCategory (numeric)    False\n",
       "BorrowerState                False\n",
       "Occupation                   False\n",
       "EmploymentStatus             False\n",
       "EmploymentStatusDuration     False\n",
       "IsBorrowerHomeowner          False\n",
       "IncomeRange                  False\n",
       "StatedMonthlyIncome          False\n",
       "LoanOriginalAmount           False\n",
       "LoanOriginationDate          False\n",
       "dtype: bool"
      ]
     },
     "execution_count": 10,
     "metadata": {},
     "output_type": "execute_result"
    }
   ],
   "source": [
    "#Dropping null values in the dataset\n",
    "\n",
    "dff = dff.dropna()\n",
    "\n",
    "#Confirming if the null values have been dropped\n",
    "\n",
    "dff.isna().any()"
   ]
  },
  {
   "cell_type": "markdown",
   "metadata": {},
   "source": [
    "There are no more null values in the dataset."
   ]
  },
  {
   "cell_type": "code",
   "execution_count": 11,
   "metadata": {},
   "outputs": [
    {
     "data": {
      "text/html": [
       "<div>\n",
       "<style scoped>\n",
       "    .dataframe tbody tr th:only-of-type {\n",
       "        vertical-align: middle;\n",
       "    }\n",
       "\n",
       "    .dataframe tbody tr th {\n",
       "        vertical-align: top;\n",
       "    }\n",
       "\n",
       "    .dataframe thead th {\n",
       "        text-align: right;\n",
       "    }\n",
       "</style>\n",
       "<table border=\"1\" class=\"dataframe\">\n",
       "  <thead>\n",
       "    <tr style=\"text-align: right;\">\n",
       "      <th></th>\n",
       "      <th>ListingNumber</th>\n",
       "      <th>Term</th>\n",
       "      <th>LoanStatus</th>\n",
       "      <th>BorrowerAPR</th>\n",
       "      <th>BorrowerRate</th>\n",
       "      <th>LenderYield</th>\n",
       "      <th>ProsperRating</th>\n",
       "      <th>ProsperScore</th>\n",
       "      <th>ListingCategory</th>\n",
       "      <th>BorrowerState</th>\n",
       "      <th>Occupation</th>\n",
       "      <th>EmploymentStatus</th>\n",
       "      <th>EmploymentStatusDuration</th>\n",
       "      <th>HomeOwner?</th>\n",
       "      <th>IncomeRange</th>\n",
       "      <th>StatedMonthlyIncome</th>\n",
       "      <th>LoanOriginalAmount</th>\n",
       "      <th>LoanOriginationDate</th>\n",
       "    </tr>\n",
       "  </thead>\n",
       "  <tbody>\n",
       "    <tr>\n",
       "      <th>1</th>\n",
       "      <td>1209647</td>\n",
       "      <td>36</td>\n",
       "      <td>Current</td>\n",
       "      <td>0.12016</td>\n",
       "      <td>0.0920</td>\n",
       "      <td>0.0820</td>\n",
       "      <td>A</td>\n",
       "      <td>7.0</td>\n",
       "      <td>2</td>\n",
       "      <td>CO</td>\n",
       "      <td>Professional</td>\n",
       "      <td>Employed</td>\n",
       "      <td>44.0</td>\n",
       "      <td>False</td>\n",
       "      <td>$50,000-74,999</td>\n",
       "      <td>6125.000000</td>\n",
       "      <td>10000</td>\n",
       "      <td>2014-03-03 00:00:00</td>\n",
       "    </tr>\n",
       "    <tr>\n",
       "      <th>3</th>\n",
       "      <td>658116</td>\n",
       "      <td>36</td>\n",
       "      <td>Current</td>\n",
       "      <td>0.12528</td>\n",
       "      <td>0.0974</td>\n",
       "      <td>0.0874</td>\n",
       "      <td>A</td>\n",
       "      <td>9.0</td>\n",
       "      <td>16</td>\n",
       "      <td>GA</td>\n",
       "      <td>Skilled Labor</td>\n",
       "      <td>Employed</td>\n",
       "      <td>113.0</td>\n",
       "      <td>True</td>\n",
       "      <td>$25,000-49,999</td>\n",
       "      <td>2875.000000</td>\n",
       "      <td>10000</td>\n",
       "      <td>2012-11-01 00:00:00</td>\n",
       "    </tr>\n",
       "    <tr>\n",
       "      <th>4</th>\n",
       "      <td>909464</td>\n",
       "      <td>36</td>\n",
       "      <td>Current</td>\n",
       "      <td>0.24614</td>\n",
       "      <td>0.2085</td>\n",
       "      <td>0.1985</td>\n",
       "      <td>D</td>\n",
       "      <td>4.0</td>\n",
       "      <td>2</td>\n",
       "      <td>MN</td>\n",
       "      <td>Executive</td>\n",
       "      <td>Employed</td>\n",
       "      <td>44.0</td>\n",
       "      <td>True</td>\n",
       "      <td>$100,000+</td>\n",
       "      <td>9583.333333</td>\n",
       "      <td>15000</td>\n",
       "      <td>2013-09-20 00:00:00</td>\n",
       "    </tr>\n",
       "    <tr>\n",
       "      <th>5</th>\n",
       "      <td>1074836</td>\n",
       "      <td>60</td>\n",
       "      <td>Current</td>\n",
       "      <td>0.15425</td>\n",
       "      <td>0.1314</td>\n",
       "      <td>0.1214</td>\n",
       "      <td>B</td>\n",
       "      <td>10.0</td>\n",
       "      <td>1</td>\n",
       "      <td>NM</td>\n",
       "      <td>Professional</td>\n",
       "      <td>Employed</td>\n",
       "      <td>82.0</td>\n",
       "      <td>True</td>\n",
       "      <td>$100,000+</td>\n",
       "      <td>8333.333333</td>\n",
       "      <td>15000</td>\n",
       "      <td>2013-12-24 00:00:00</td>\n",
       "    </tr>\n",
       "    <tr>\n",
       "      <th>6</th>\n",
       "      <td>750899</td>\n",
       "      <td>36</td>\n",
       "      <td>Current</td>\n",
       "      <td>0.31032</td>\n",
       "      <td>0.2712</td>\n",
       "      <td>0.2612</td>\n",
       "      <td>E</td>\n",
       "      <td>2.0</td>\n",
       "      <td>1</td>\n",
       "      <td>KS</td>\n",
       "      <td>Sales - Retail</td>\n",
       "      <td>Employed</td>\n",
       "      <td>172.0</td>\n",
       "      <td>False</td>\n",
       "      <td>$25,000-49,999</td>\n",
       "      <td>2083.333333</td>\n",
       "      <td>3000</td>\n",
       "      <td>2013-04-18 00:00:00</td>\n",
       "    </tr>\n",
       "  </tbody>\n",
       "</table>\n",
       "</div>"
      ],
      "text/plain": [
       "   ListingNumber  Term LoanStatus  BorrowerAPR  BorrowerRate  LenderYield  \\\n",
       "1        1209647    36    Current      0.12016        0.0920       0.0820   \n",
       "3         658116    36    Current      0.12528        0.0974       0.0874   \n",
       "4         909464    36    Current      0.24614        0.2085       0.1985   \n",
       "5        1074836    60    Current      0.15425        0.1314       0.1214   \n",
       "6         750899    36    Current      0.31032        0.2712       0.2612   \n",
       "\n",
       "  ProsperRating  ProsperScore  ListingCategory BorrowerState      Occupation  \\\n",
       "1             A           7.0                2            CO    Professional   \n",
       "3             A           9.0               16            GA   Skilled Labor   \n",
       "4             D           4.0                2            MN       Executive   \n",
       "5             B          10.0                1            NM    Professional   \n",
       "6             E           2.0                1            KS  Sales - Retail   \n",
       "\n",
       "  EmploymentStatus  EmploymentStatusDuration  HomeOwner?     IncomeRange  \\\n",
       "1         Employed                      44.0       False  $50,000-74,999   \n",
       "3         Employed                     113.0        True  $25,000-49,999   \n",
       "4         Employed                      44.0        True       $100,000+   \n",
       "5         Employed                      82.0        True       $100,000+   \n",
       "6         Employed                     172.0       False  $25,000-49,999   \n",
       "\n",
       "   StatedMonthlyIncome  LoanOriginalAmount  LoanOriginationDate  \n",
       "1          6125.000000               10000  2014-03-03 00:00:00  \n",
       "3          2875.000000               10000  2012-11-01 00:00:00  \n",
       "4          9583.333333               15000  2013-09-20 00:00:00  \n",
       "5          8333.333333               15000  2013-12-24 00:00:00  \n",
       "6          2083.333333                3000  2013-04-18 00:00:00  "
      ]
     },
     "execution_count": 11,
     "metadata": {},
     "output_type": "execute_result"
    }
   ],
   "source": [
    "#Renaming columns for easier identification and simplicity\n",
    "\n",
    "dff = dff.rename(columns = {'ProsperRating (Alpha)':'ProsperRating','ListingCategory (numeric)': 'ListingCategory',\n",
    "            'IsBorrowerHomeowner': 'HomeOwner?'})\n",
    "dff.head()"
   ]
  },
  {
   "cell_type": "markdown",
   "metadata": {},
   "source": [
    ">Now, we want to convert the LoanOriginationDate to datetime so as to be able to manipulate it easily (we want to extract the year and month the loan was taken, from the date)."
   ]
  },
  {
   "cell_type": "code",
   "execution_count": 12,
   "metadata": {},
   "outputs": [
    {
     "data": {
      "text/html": [
       "<div>\n",
       "<style scoped>\n",
       "    .dataframe tbody tr th:only-of-type {\n",
       "        vertical-align: middle;\n",
       "    }\n",
       "\n",
       "    .dataframe tbody tr th {\n",
       "        vertical-align: top;\n",
       "    }\n",
       "\n",
       "    .dataframe thead th {\n",
       "        text-align: right;\n",
       "    }\n",
       "</style>\n",
       "<table border=\"1\" class=\"dataframe\">\n",
       "  <thead>\n",
       "    <tr style=\"text-align: right;\">\n",
       "      <th></th>\n",
       "      <th>ListingNumber</th>\n",
       "      <th>Term</th>\n",
       "      <th>LoanStatus</th>\n",
       "      <th>BorrowerAPR</th>\n",
       "      <th>BorrowerRate</th>\n",
       "      <th>LenderYield</th>\n",
       "      <th>ProsperRating</th>\n",
       "      <th>ProsperScore</th>\n",
       "      <th>ListingCategory</th>\n",
       "      <th>BorrowerState</th>\n",
       "      <th>Occupation</th>\n",
       "      <th>EmploymentStatus</th>\n",
       "      <th>EmploymentStatusDuration</th>\n",
       "      <th>HomeOwner?</th>\n",
       "      <th>IncomeRange</th>\n",
       "      <th>StatedMonthlyIncome</th>\n",
       "      <th>LoanOriginalAmount</th>\n",
       "      <th>LoanOriginationDate</th>\n",
       "      <th>LoanOriginationMonth</th>\n",
       "      <th>LoanOriginationYear</th>\n",
       "    </tr>\n",
       "  </thead>\n",
       "  <tbody>\n",
       "    <tr>\n",
       "      <th>1</th>\n",
       "      <td>1209647</td>\n",
       "      <td>36</td>\n",
       "      <td>Current</td>\n",
       "      <td>0.12016</td>\n",
       "      <td>0.0920</td>\n",
       "      <td>0.0820</td>\n",
       "      <td>A</td>\n",
       "      <td>7.0</td>\n",
       "      <td>2</td>\n",
       "      <td>CO</td>\n",
       "      <td>Professional</td>\n",
       "      <td>Employed</td>\n",
       "      <td>44.0</td>\n",
       "      <td>False</td>\n",
       "      <td>$50,000-74,999</td>\n",
       "      <td>6125.000000</td>\n",
       "      <td>10000</td>\n",
       "      <td>2014-03-03</td>\n",
       "      <td>3</td>\n",
       "      <td>2014</td>\n",
       "    </tr>\n",
       "    <tr>\n",
       "      <th>3</th>\n",
       "      <td>658116</td>\n",
       "      <td>36</td>\n",
       "      <td>Current</td>\n",
       "      <td>0.12528</td>\n",
       "      <td>0.0974</td>\n",
       "      <td>0.0874</td>\n",
       "      <td>A</td>\n",
       "      <td>9.0</td>\n",
       "      <td>16</td>\n",
       "      <td>GA</td>\n",
       "      <td>Skilled Labor</td>\n",
       "      <td>Employed</td>\n",
       "      <td>113.0</td>\n",
       "      <td>True</td>\n",
       "      <td>$25,000-49,999</td>\n",
       "      <td>2875.000000</td>\n",
       "      <td>10000</td>\n",
       "      <td>2012-11-01</td>\n",
       "      <td>11</td>\n",
       "      <td>2012</td>\n",
       "    </tr>\n",
       "    <tr>\n",
       "      <th>4</th>\n",
       "      <td>909464</td>\n",
       "      <td>36</td>\n",
       "      <td>Current</td>\n",
       "      <td>0.24614</td>\n",
       "      <td>0.2085</td>\n",
       "      <td>0.1985</td>\n",
       "      <td>D</td>\n",
       "      <td>4.0</td>\n",
       "      <td>2</td>\n",
       "      <td>MN</td>\n",
       "      <td>Executive</td>\n",
       "      <td>Employed</td>\n",
       "      <td>44.0</td>\n",
       "      <td>True</td>\n",
       "      <td>$100,000+</td>\n",
       "      <td>9583.333333</td>\n",
       "      <td>15000</td>\n",
       "      <td>2013-09-20</td>\n",
       "      <td>9</td>\n",
       "      <td>2013</td>\n",
       "    </tr>\n",
       "    <tr>\n",
       "      <th>5</th>\n",
       "      <td>1074836</td>\n",
       "      <td>60</td>\n",
       "      <td>Current</td>\n",
       "      <td>0.15425</td>\n",
       "      <td>0.1314</td>\n",
       "      <td>0.1214</td>\n",
       "      <td>B</td>\n",
       "      <td>10.0</td>\n",
       "      <td>1</td>\n",
       "      <td>NM</td>\n",
       "      <td>Professional</td>\n",
       "      <td>Employed</td>\n",
       "      <td>82.0</td>\n",
       "      <td>True</td>\n",
       "      <td>$100,000+</td>\n",
       "      <td>8333.333333</td>\n",
       "      <td>15000</td>\n",
       "      <td>2013-12-24</td>\n",
       "      <td>12</td>\n",
       "      <td>2013</td>\n",
       "    </tr>\n",
       "    <tr>\n",
       "      <th>6</th>\n",
       "      <td>750899</td>\n",
       "      <td>36</td>\n",
       "      <td>Current</td>\n",
       "      <td>0.31032</td>\n",
       "      <td>0.2712</td>\n",
       "      <td>0.2612</td>\n",
       "      <td>E</td>\n",
       "      <td>2.0</td>\n",
       "      <td>1</td>\n",
       "      <td>KS</td>\n",
       "      <td>Sales - Retail</td>\n",
       "      <td>Employed</td>\n",
       "      <td>172.0</td>\n",
       "      <td>False</td>\n",
       "      <td>$25,000-49,999</td>\n",
       "      <td>2083.333333</td>\n",
       "      <td>3000</td>\n",
       "      <td>2013-04-18</td>\n",
       "      <td>4</td>\n",
       "      <td>2013</td>\n",
       "    </tr>\n",
       "  </tbody>\n",
       "</table>\n",
       "</div>"
      ],
      "text/plain": [
       "   ListingNumber  Term LoanStatus  BorrowerAPR  BorrowerRate  LenderYield  \\\n",
       "1        1209647    36    Current      0.12016        0.0920       0.0820   \n",
       "3         658116    36    Current      0.12528        0.0974       0.0874   \n",
       "4         909464    36    Current      0.24614        0.2085       0.1985   \n",
       "5        1074836    60    Current      0.15425        0.1314       0.1214   \n",
       "6         750899    36    Current      0.31032        0.2712       0.2612   \n",
       "\n",
       "  ProsperRating  ProsperScore  ListingCategory BorrowerState      Occupation  \\\n",
       "1             A           7.0                2            CO    Professional   \n",
       "3             A           9.0               16            GA   Skilled Labor   \n",
       "4             D           4.0                2            MN       Executive   \n",
       "5             B          10.0                1            NM    Professional   \n",
       "6             E           2.0                1            KS  Sales - Retail   \n",
       "\n",
       "  EmploymentStatus  EmploymentStatusDuration  HomeOwner?     IncomeRange  \\\n",
       "1         Employed                      44.0       False  $50,000-74,999   \n",
       "3         Employed                     113.0        True  $25,000-49,999   \n",
       "4         Employed                      44.0        True       $100,000+   \n",
       "5         Employed                      82.0        True       $100,000+   \n",
       "6         Employed                     172.0       False  $25,000-49,999   \n",
       "\n",
       "   StatedMonthlyIncome  LoanOriginalAmount LoanOriginationDate  \\\n",
       "1          6125.000000               10000          2014-03-03   \n",
       "3          2875.000000               10000          2012-11-01   \n",
       "4          9583.333333               15000          2013-09-20   \n",
       "5          8333.333333               15000          2013-12-24   \n",
       "6          2083.333333                3000          2013-04-18   \n",
       "\n",
       "   LoanOriginationMonth  LoanOriginationYear  \n",
       "1                     3                 2014  \n",
       "3                    11                 2012  \n",
       "4                     9                 2013  \n",
       "5                    12                 2013  \n",
       "6                     4                 2013  "
      ]
     },
     "execution_count": 12,
     "metadata": {},
     "output_type": "execute_result"
    }
   ],
   "source": [
    "#Converting the LoanOriginationDate column to datetime\n",
    "\n",
    "dff[\"LoanOriginationDate\"] = dff[\"LoanOriginationDate\"].astype('datetime64[ns]')\n",
    "\n",
    "#Extracting year and month from date\n",
    "\n",
    "dff['LoanOriginationMonth']= dff['LoanOriginationDate'].dt.month\n",
    "dff['LoanOriginationYear'] = dff['LoanOriginationDate'].dt.year\n",
    "\n",
    "dff.head()"
   ]
  },
  {
   "cell_type": "markdown",
   "metadata": {},
   "source": [
    ">The LoanOriginationMonth is in numbers, we have to convert it to actual months for better understanding."
   ]
  },
  {
   "cell_type": "code",
   "execution_count": 13,
   "metadata": {},
   "outputs": [
    {
     "data": {
      "text/html": [
       "<div>\n",
       "<style scoped>\n",
       "    .dataframe tbody tr th:only-of-type {\n",
       "        vertical-align: middle;\n",
       "    }\n",
       "\n",
       "    .dataframe tbody tr th {\n",
       "        vertical-align: top;\n",
       "    }\n",
       "\n",
       "    .dataframe thead th {\n",
       "        text-align: right;\n",
       "    }\n",
       "</style>\n",
       "<table border=\"1\" class=\"dataframe\">\n",
       "  <thead>\n",
       "    <tr style=\"text-align: right;\">\n",
       "      <th></th>\n",
       "      <th>ListingNumber</th>\n",
       "      <th>Term</th>\n",
       "      <th>LoanStatus</th>\n",
       "      <th>BorrowerAPR</th>\n",
       "      <th>BorrowerRate</th>\n",
       "      <th>LenderYield</th>\n",
       "      <th>ProsperRating</th>\n",
       "      <th>ProsperScore</th>\n",
       "      <th>ListingCategory</th>\n",
       "      <th>BorrowerState</th>\n",
       "      <th>Occupation</th>\n",
       "      <th>EmploymentStatus</th>\n",
       "      <th>EmploymentStatusDuration</th>\n",
       "      <th>HomeOwner?</th>\n",
       "      <th>IncomeRange</th>\n",
       "      <th>StatedMonthlyIncome</th>\n",
       "      <th>LoanOriginalAmount</th>\n",
       "      <th>LoanOriginationDate</th>\n",
       "      <th>LoanOriginationMonth</th>\n",
       "      <th>LoanOriginationYear</th>\n",
       "    </tr>\n",
       "  </thead>\n",
       "  <tbody>\n",
       "    <tr>\n",
       "      <th>1</th>\n",
       "      <td>1209647</td>\n",
       "      <td>36</td>\n",
       "      <td>Current</td>\n",
       "      <td>0.12016</td>\n",
       "      <td>0.0920</td>\n",
       "      <td>0.0820</td>\n",
       "      <td>A</td>\n",
       "      <td>7.0</td>\n",
       "      <td>2</td>\n",
       "      <td>CO</td>\n",
       "      <td>Professional</td>\n",
       "      <td>Employed</td>\n",
       "      <td>44.0</td>\n",
       "      <td>False</td>\n",
       "      <td>$50,000-74,999</td>\n",
       "      <td>6125.000000</td>\n",
       "      <td>10000</td>\n",
       "      <td>2014-03-03</td>\n",
       "      <td>Mar</td>\n",
       "      <td>2014</td>\n",
       "    </tr>\n",
       "    <tr>\n",
       "      <th>3</th>\n",
       "      <td>658116</td>\n",
       "      <td>36</td>\n",
       "      <td>Current</td>\n",
       "      <td>0.12528</td>\n",
       "      <td>0.0974</td>\n",
       "      <td>0.0874</td>\n",
       "      <td>A</td>\n",
       "      <td>9.0</td>\n",
       "      <td>16</td>\n",
       "      <td>GA</td>\n",
       "      <td>Skilled Labor</td>\n",
       "      <td>Employed</td>\n",
       "      <td>113.0</td>\n",
       "      <td>True</td>\n",
       "      <td>$25,000-49,999</td>\n",
       "      <td>2875.000000</td>\n",
       "      <td>10000</td>\n",
       "      <td>2012-11-01</td>\n",
       "      <td>Nov</td>\n",
       "      <td>2012</td>\n",
       "    </tr>\n",
       "    <tr>\n",
       "      <th>4</th>\n",
       "      <td>909464</td>\n",
       "      <td>36</td>\n",
       "      <td>Current</td>\n",
       "      <td>0.24614</td>\n",
       "      <td>0.2085</td>\n",
       "      <td>0.1985</td>\n",
       "      <td>D</td>\n",
       "      <td>4.0</td>\n",
       "      <td>2</td>\n",
       "      <td>MN</td>\n",
       "      <td>Executive</td>\n",
       "      <td>Employed</td>\n",
       "      <td>44.0</td>\n",
       "      <td>True</td>\n",
       "      <td>$100,000+</td>\n",
       "      <td>9583.333333</td>\n",
       "      <td>15000</td>\n",
       "      <td>2013-09-20</td>\n",
       "      <td>Sep</td>\n",
       "      <td>2013</td>\n",
       "    </tr>\n",
       "    <tr>\n",
       "      <th>5</th>\n",
       "      <td>1074836</td>\n",
       "      <td>60</td>\n",
       "      <td>Current</td>\n",
       "      <td>0.15425</td>\n",
       "      <td>0.1314</td>\n",
       "      <td>0.1214</td>\n",
       "      <td>B</td>\n",
       "      <td>10.0</td>\n",
       "      <td>1</td>\n",
       "      <td>NM</td>\n",
       "      <td>Professional</td>\n",
       "      <td>Employed</td>\n",
       "      <td>82.0</td>\n",
       "      <td>True</td>\n",
       "      <td>$100,000+</td>\n",
       "      <td>8333.333333</td>\n",
       "      <td>15000</td>\n",
       "      <td>2013-12-24</td>\n",
       "      <td>Dec</td>\n",
       "      <td>2013</td>\n",
       "    </tr>\n",
       "    <tr>\n",
       "      <th>6</th>\n",
       "      <td>750899</td>\n",
       "      <td>36</td>\n",
       "      <td>Current</td>\n",
       "      <td>0.31032</td>\n",
       "      <td>0.2712</td>\n",
       "      <td>0.2612</td>\n",
       "      <td>E</td>\n",
       "      <td>2.0</td>\n",
       "      <td>1</td>\n",
       "      <td>KS</td>\n",
       "      <td>Sales - Retail</td>\n",
       "      <td>Employed</td>\n",
       "      <td>172.0</td>\n",
       "      <td>False</td>\n",
       "      <td>$25,000-49,999</td>\n",
       "      <td>2083.333333</td>\n",
       "      <td>3000</td>\n",
       "      <td>2013-04-18</td>\n",
       "      <td>Apr</td>\n",
       "      <td>2013</td>\n",
       "    </tr>\n",
       "  </tbody>\n",
       "</table>\n",
       "</div>"
      ],
      "text/plain": [
       "   ListingNumber  Term LoanStatus  BorrowerAPR  BorrowerRate  LenderYield  \\\n",
       "1        1209647    36    Current      0.12016        0.0920       0.0820   \n",
       "3         658116    36    Current      0.12528        0.0974       0.0874   \n",
       "4         909464    36    Current      0.24614        0.2085       0.1985   \n",
       "5        1074836    60    Current      0.15425        0.1314       0.1214   \n",
       "6         750899    36    Current      0.31032        0.2712       0.2612   \n",
       "\n",
       "  ProsperRating  ProsperScore  ListingCategory BorrowerState      Occupation  \\\n",
       "1             A           7.0                2            CO    Professional   \n",
       "3             A           9.0               16            GA   Skilled Labor   \n",
       "4             D           4.0                2            MN       Executive   \n",
       "5             B          10.0                1            NM    Professional   \n",
       "6             E           2.0                1            KS  Sales - Retail   \n",
       "\n",
       "  EmploymentStatus  EmploymentStatusDuration  HomeOwner?     IncomeRange  \\\n",
       "1         Employed                      44.0       False  $50,000-74,999   \n",
       "3         Employed                     113.0        True  $25,000-49,999   \n",
       "4         Employed                      44.0        True       $100,000+   \n",
       "5         Employed                      82.0        True       $100,000+   \n",
       "6         Employed                     172.0       False  $25,000-49,999   \n",
       "\n",
       "   StatedMonthlyIncome  LoanOriginalAmount LoanOriginationDate  \\\n",
       "1          6125.000000               10000          2014-03-03   \n",
       "3          2875.000000               10000          2012-11-01   \n",
       "4          9583.333333               15000          2013-09-20   \n",
       "5          8333.333333               15000          2013-12-24   \n",
       "6          2083.333333                3000          2013-04-18   \n",
       "\n",
       "  LoanOriginationMonth  LoanOriginationYear  \n",
       "1                  Mar                 2014  \n",
       "3                  Nov                 2012  \n",
       "4                  Sep                 2013  \n",
       "5                  Dec                 2013  \n",
       "6                  Apr                 2013  "
      ]
     },
     "execution_count": 13,
     "metadata": {},
     "output_type": "execute_result"
    }
   ],
   "source": [
    "#Converting the month numbers to month name\n",
    "\n",
    "def month(LoanOriginationMonth):\n",
    "    \n",
    "    if LoanOriginationMonth == 1:\n",
    "        return 'Jan'\n",
    "    \n",
    "    elif LoanOriginationMonth == 2:\n",
    "        return 'Feb'\n",
    "    \n",
    "    elif LoanOriginationMonth == 3:\n",
    "        return 'Mar'\n",
    "    \n",
    "    elif LoanOriginationMonth == 4:\n",
    "        return 'Apr'\n",
    "    \n",
    "    elif LoanOriginationMonth == 5:\n",
    "        return 'May'\n",
    "    \n",
    "    elif LoanOriginationMonth == 6:\n",
    "        return 'Jun'\n",
    "    elif LoanOriginationMonth == 7:\n",
    "        return 'Jul'\n",
    "    \n",
    "    elif LoanOriginationMonth == 8:\n",
    "        return 'Aug'\n",
    "    \n",
    "    elif LoanOriginationMonth == 9:\n",
    "        return 'Sep'\n",
    "    \n",
    "    elif LoanOriginationMonth == 10:\n",
    "        return 'Oct'\n",
    "    \n",
    "    elif LoanOriginationMonth == 11:\n",
    "        return 'Nov'\n",
    "    \n",
    "    else:\n",
    "        return 'Dec'\n",
    "    \n",
    "dff['LoanOriginationMonth']= dff['LoanOriginationMonth'].apply(month)\n",
    "dff.head()"
   ]
  },
  {
   "cell_type": "markdown",
   "metadata": {},
   "source": [
    ">Since we now have a clomun for the month and year the loan was taken, the LoanOriginationDate can be removed from the dataset."
   ]
  },
  {
   "cell_type": "code",
   "execution_count": 14,
   "metadata": {},
   "outputs": [
    {
     "data": {
      "text/html": [
       "<div>\n",
       "<style scoped>\n",
       "    .dataframe tbody tr th:only-of-type {\n",
       "        vertical-align: middle;\n",
       "    }\n",
       "\n",
       "    .dataframe tbody tr th {\n",
       "        vertical-align: top;\n",
       "    }\n",
       "\n",
       "    .dataframe thead th {\n",
       "        text-align: right;\n",
       "    }\n",
       "</style>\n",
       "<table border=\"1\" class=\"dataframe\">\n",
       "  <thead>\n",
       "    <tr style=\"text-align: right;\">\n",
       "      <th></th>\n",
       "      <th>ListingNumber</th>\n",
       "      <th>Term</th>\n",
       "      <th>LoanStatus</th>\n",
       "      <th>BorrowerAPR</th>\n",
       "      <th>BorrowerRate</th>\n",
       "      <th>LenderYield</th>\n",
       "      <th>ProsperRating</th>\n",
       "      <th>ProsperScore</th>\n",
       "      <th>ListingCategory</th>\n",
       "      <th>BorrowerState</th>\n",
       "      <th>Occupation</th>\n",
       "      <th>EmploymentStatus</th>\n",
       "      <th>EmploymentStatusDuration</th>\n",
       "      <th>HomeOwner?</th>\n",
       "      <th>IncomeRange</th>\n",
       "      <th>StatedMonthlyIncome</th>\n",
       "      <th>LoanOriginalAmount</th>\n",
       "      <th>LoanOriginationMonth</th>\n",
       "      <th>LoanOriginationYear</th>\n",
       "    </tr>\n",
       "  </thead>\n",
       "  <tbody>\n",
       "    <tr>\n",
       "      <th>1</th>\n",
       "      <td>1209647</td>\n",
       "      <td>36</td>\n",
       "      <td>Current</td>\n",
       "      <td>0.12016</td>\n",
       "      <td>0.0920</td>\n",
       "      <td>0.0820</td>\n",
       "      <td>A</td>\n",
       "      <td>7.0</td>\n",
       "      <td>2</td>\n",
       "      <td>CO</td>\n",
       "      <td>Professional</td>\n",
       "      <td>Employed</td>\n",
       "      <td>44.0</td>\n",
       "      <td>False</td>\n",
       "      <td>$50,000-74,999</td>\n",
       "      <td>6125.000000</td>\n",
       "      <td>10000</td>\n",
       "      <td>Mar</td>\n",
       "      <td>2014</td>\n",
       "    </tr>\n",
       "    <tr>\n",
       "      <th>3</th>\n",
       "      <td>658116</td>\n",
       "      <td>36</td>\n",
       "      <td>Current</td>\n",
       "      <td>0.12528</td>\n",
       "      <td>0.0974</td>\n",
       "      <td>0.0874</td>\n",
       "      <td>A</td>\n",
       "      <td>9.0</td>\n",
       "      <td>16</td>\n",
       "      <td>GA</td>\n",
       "      <td>Skilled Labor</td>\n",
       "      <td>Employed</td>\n",
       "      <td>113.0</td>\n",
       "      <td>True</td>\n",
       "      <td>$25,000-49,999</td>\n",
       "      <td>2875.000000</td>\n",
       "      <td>10000</td>\n",
       "      <td>Nov</td>\n",
       "      <td>2012</td>\n",
       "    </tr>\n",
       "    <tr>\n",
       "      <th>4</th>\n",
       "      <td>909464</td>\n",
       "      <td>36</td>\n",
       "      <td>Current</td>\n",
       "      <td>0.24614</td>\n",
       "      <td>0.2085</td>\n",
       "      <td>0.1985</td>\n",
       "      <td>D</td>\n",
       "      <td>4.0</td>\n",
       "      <td>2</td>\n",
       "      <td>MN</td>\n",
       "      <td>Executive</td>\n",
       "      <td>Employed</td>\n",
       "      <td>44.0</td>\n",
       "      <td>True</td>\n",
       "      <td>$100,000+</td>\n",
       "      <td>9583.333333</td>\n",
       "      <td>15000</td>\n",
       "      <td>Sep</td>\n",
       "      <td>2013</td>\n",
       "    </tr>\n",
       "    <tr>\n",
       "      <th>5</th>\n",
       "      <td>1074836</td>\n",
       "      <td>60</td>\n",
       "      <td>Current</td>\n",
       "      <td>0.15425</td>\n",
       "      <td>0.1314</td>\n",
       "      <td>0.1214</td>\n",
       "      <td>B</td>\n",
       "      <td>10.0</td>\n",
       "      <td>1</td>\n",
       "      <td>NM</td>\n",
       "      <td>Professional</td>\n",
       "      <td>Employed</td>\n",
       "      <td>82.0</td>\n",
       "      <td>True</td>\n",
       "      <td>$100,000+</td>\n",
       "      <td>8333.333333</td>\n",
       "      <td>15000</td>\n",
       "      <td>Dec</td>\n",
       "      <td>2013</td>\n",
       "    </tr>\n",
       "    <tr>\n",
       "      <th>6</th>\n",
       "      <td>750899</td>\n",
       "      <td>36</td>\n",
       "      <td>Current</td>\n",
       "      <td>0.31032</td>\n",
       "      <td>0.2712</td>\n",
       "      <td>0.2612</td>\n",
       "      <td>E</td>\n",
       "      <td>2.0</td>\n",
       "      <td>1</td>\n",
       "      <td>KS</td>\n",
       "      <td>Sales - Retail</td>\n",
       "      <td>Employed</td>\n",
       "      <td>172.0</td>\n",
       "      <td>False</td>\n",
       "      <td>$25,000-49,999</td>\n",
       "      <td>2083.333333</td>\n",
       "      <td>3000</td>\n",
       "      <td>Apr</td>\n",
       "      <td>2013</td>\n",
       "    </tr>\n",
       "  </tbody>\n",
       "</table>\n",
       "</div>"
      ],
      "text/plain": [
       "   ListingNumber  Term LoanStatus  BorrowerAPR  BorrowerRate  LenderYield  \\\n",
       "1        1209647    36    Current      0.12016        0.0920       0.0820   \n",
       "3         658116    36    Current      0.12528        0.0974       0.0874   \n",
       "4         909464    36    Current      0.24614        0.2085       0.1985   \n",
       "5        1074836    60    Current      0.15425        0.1314       0.1214   \n",
       "6         750899    36    Current      0.31032        0.2712       0.2612   \n",
       "\n",
       "  ProsperRating  ProsperScore  ListingCategory BorrowerState      Occupation  \\\n",
       "1             A           7.0                2            CO    Professional   \n",
       "3             A           9.0               16            GA   Skilled Labor   \n",
       "4             D           4.0                2            MN       Executive   \n",
       "5             B          10.0                1            NM    Professional   \n",
       "6             E           2.0                1            KS  Sales - Retail   \n",
       "\n",
       "  EmploymentStatus  EmploymentStatusDuration  HomeOwner?     IncomeRange  \\\n",
       "1         Employed                      44.0       False  $50,000-74,999   \n",
       "3         Employed                     113.0        True  $25,000-49,999   \n",
       "4         Employed                      44.0        True       $100,000+   \n",
       "5         Employed                      82.0        True       $100,000+   \n",
       "6         Employed                     172.0       False  $25,000-49,999   \n",
       "\n",
       "   StatedMonthlyIncome  LoanOriginalAmount LoanOriginationMonth  \\\n",
       "1          6125.000000               10000                  Mar   \n",
       "3          2875.000000               10000                  Nov   \n",
       "4          9583.333333               15000                  Sep   \n",
       "5          8333.333333               15000                  Dec   \n",
       "6          2083.333333                3000                  Apr   \n",
       "\n",
       "   LoanOriginationYear  \n",
       "1                 2014  \n",
       "3                 2012  \n",
       "4                 2013  \n",
       "5                 2013  \n",
       "6                 2013  "
      ]
     },
     "execution_count": 14,
     "metadata": {},
     "output_type": "execute_result"
    }
   ],
   "source": [
    "#Removing the LoanOriginationDate column\n",
    "\n",
    "dff.drop('LoanOriginationDate',axis = 1, inplace=True)\n",
    "dff.head()"
   ]
  },
  {
   "cell_type": "markdown",
   "metadata": {},
   "source": [
    ">The borrower's state is represented as city codes and not everybody will understand what all the city codes are, especially non-residents of the United states. In view of this, we will append the full name of the city to the city code. "
   ]
  },
  {
   "cell_type": "code",
   "execution_count": 15,
   "metadata": {
    "scrolled": true
   },
   "outputs": [
    {
     "data": {
      "text/plain": [
       "array(['CO', 'GA', 'MN', 'NM', 'KS', 'CA', 'IL', 'MD', 'AL', 'AZ', 'VA',\n",
       "       'FL', 'PA', 'OR', 'NY', 'LA', 'WI', 'OH', 'NC', 'WA', 'MI', 'NV',\n",
       "       'NJ', 'TX', 'AR', 'SC', 'DE', 'UT', 'DC', 'MA', 'MO', 'CT', 'IN',\n",
       "       'KY', 'OK', 'MS', 'WV', 'RI', 'TN', 'ID', 'HI', 'NH', 'NE', 'WY',\n",
       "       'AK', 'MT', 'VT', 'SD'], dtype=object)"
      ]
     },
     "execution_count": 15,
     "metadata": {},
     "output_type": "execute_result"
    }
   ],
   "source": [
    "dff['BorrowerState'].unique()"
   ]
  },
  {
   "cell_type": "markdown",
   "metadata": {},
   "source": [
    "These are the different city codes present in the data set. Only a few cities in the United states are left out but that's not our major concern. Let's focus on what we have in our dataset."
   ]
  },
  {
   "cell_type": "code",
   "execution_count": 16,
   "metadata": {},
   "outputs": [
    {
     "data": {
      "text/html": [
       "<div>\n",
       "<style scoped>\n",
       "    .dataframe tbody tr th:only-of-type {\n",
       "        vertical-align: middle;\n",
       "    }\n",
       "\n",
       "    .dataframe tbody tr th {\n",
       "        vertical-align: top;\n",
       "    }\n",
       "\n",
       "    .dataframe thead th {\n",
       "        text-align: right;\n",
       "    }\n",
       "</style>\n",
       "<table border=\"1\" class=\"dataframe\">\n",
       "  <thead>\n",
       "    <tr style=\"text-align: right;\">\n",
       "      <th></th>\n",
       "      <th>ListingNumber</th>\n",
       "      <th>Term</th>\n",
       "      <th>LoanStatus</th>\n",
       "      <th>BorrowerAPR</th>\n",
       "      <th>BorrowerRate</th>\n",
       "      <th>LenderYield</th>\n",
       "      <th>ProsperRating</th>\n",
       "      <th>ProsperScore</th>\n",
       "      <th>ListingCategory</th>\n",
       "      <th>BorrowerState</th>\n",
       "      <th>Occupation</th>\n",
       "      <th>EmploymentStatus</th>\n",
       "      <th>EmploymentStatusDuration</th>\n",
       "      <th>HomeOwner?</th>\n",
       "      <th>IncomeRange</th>\n",
       "      <th>StatedMonthlyIncome</th>\n",
       "      <th>LoanOriginalAmount</th>\n",
       "      <th>LoanOriginationMonth</th>\n",
       "      <th>LoanOriginationYear</th>\n",
       "    </tr>\n",
       "  </thead>\n",
       "  <tbody>\n",
       "    <tr>\n",
       "      <th>1</th>\n",
       "      <td>1209647</td>\n",
       "      <td>36</td>\n",
       "      <td>Current</td>\n",
       "      <td>0.12016</td>\n",
       "      <td>0.0920</td>\n",
       "      <td>0.0820</td>\n",
       "      <td>A</td>\n",
       "      <td>7.0</td>\n",
       "      <td>2</td>\n",
       "      <td>Colorado</td>\n",
       "      <td>Professional</td>\n",
       "      <td>Employed</td>\n",
       "      <td>44.0</td>\n",
       "      <td>False</td>\n",
       "      <td>$50,000-74,999</td>\n",
       "      <td>6125.000000</td>\n",
       "      <td>10000</td>\n",
       "      <td>Mar</td>\n",
       "      <td>2014</td>\n",
       "    </tr>\n",
       "    <tr>\n",
       "      <th>3</th>\n",
       "      <td>658116</td>\n",
       "      <td>36</td>\n",
       "      <td>Current</td>\n",
       "      <td>0.12528</td>\n",
       "      <td>0.0974</td>\n",
       "      <td>0.0874</td>\n",
       "      <td>A</td>\n",
       "      <td>9.0</td>\n",
       "      <td>16</td>\n",
       "      <td>Georgia</td>\n",
       "      <td>Skilled Labor</td>\n",
       "      <td>Employed</td>\n",
       "      <td>113.0</td>\n",
       "      <td>True</td>\n",
       "      <td>$25,000-49,999</td>\n",
       "      <td>2875.000000</td>\n",
       "      <td>10000</td>\n",
       "      <td>Nov</td>\n",
       "      <td>2012</td>\n",
       "    </tr>\n",
       "    <tr>\n",
       "      <th>4</th>\n",
       "      <td>909464</td>\n",
       "      <td>36</td>\n",
       "      <td>Current</td>\n",
       "      <td>0.24614</td>\n",
       "      <td>0.2085</td>\n",
       "      <td>0.1985</td>\n",
       "      <td>D</td>\n",
       "      <td>4.0</td>\n",
       "      <td>2</td>\n",
       "      <td>Minnesota</td>\n",
       "      <td>Executive</td>\n",
       "      <td>Employed</td>\n",
       "      <td>44.0</td>\n",
       "      <td>True</td>\n",
       "      <td>$100,000+</td>\n",
       "      <td>9583.333333</td>\n",
       "      <td>15000</td>\n",
       "      <td>Sep</td>\n",
       "      <td>2013</td>\n",
       "    </tr>\n",
       "    <tr>\n",
       "      <th>5</th>\n",
       "      <td>1074836</td>\n",
       "      <td>60</td>\n",
       "      <td>Current</td>\n",
       "      <td>0.15425</td>\n",
       "      <td>0.1314</td>\n",
       "      <td>0.1214</td>\n",
       "      <td>B</td>\n",
       "      <td>10.0</td>\n",
       "      <td>1</td>\n",
       "      <td>New Mexico</td>\n",
       "      <td>Professional</td>\n",
       "      <td>Employed</td>\n",
       "      <td>82.0</td>\n",
       "      <td>True</td>\n",
       "      <td>$100,000+</td>\n",
       "      <td>8333.333333</td>\n",
       "      <td>15000</td>\n",
       "      <td>Dec</td>\n",
       "      <td>2013</td>\n",
       "    </tr>\n",
       "    <tr>\n",
       "      <th>6</th>\n",
       "      <td>750899</td>\n",
       "      <td>36</td>\n",
       "      <td>Current</td>\n",
       "      <td>0.31032</td>\n",
       "      <td>0.2712</td>\n",
       "      <td>0.2612</td>\n",
       "      <td>E</td>\n",
       "      <td>2.0</td>\n",
       "      <td>1</td>\n",
       "      <td>Kansas</td>\n",
       "      <td>Sales - Retail</td>\n",
       "      <td>Employed</td>\n",
       "      <td>172.0</td>\n",
       "      <td>False</td>\n",
       "      <td>$25,000-49,999</td>\n",
       "      <td>2083.333333</td>\n",
       "      <td>3000</td>\n",
       "      <td>Apr</td>\n",
       "      <td>2013</td>\n",
       "    </tr>\n",
       "  </tbody>\n",
       "</table>\n",
       "</div>"
      ],
      "text/plain": [
       "   ListingNumber  Term LoanStatus  BorrowerAPR  BorrowerRate  LenderYield  \\\n",
       "1        1209647    36    Current      0.12016        0.0920       0.0820   \n",
       "3         658116    36    Current      0.12528        0.0974       0.0874   \n",
       "4         909464    36    Current      0.24614        0.2085       0.1985   \n",
       "5        1074836    60    Current      0.15425        0.1314       0.1214   \n",
       "6         750899    36    Current      0.31032        0.2712       0.2612   \n",
       "\n",
       "  ProsperRating  ProsperScore  ListingCategory BorrowerState      Occupation  \\\n",
       "1             A           7.0                2      Colorado    Professional   \n",
       "3             A           9.0               16       Georgia   Skilled Labor   \n",
       "4             D           4.0                2     Minnesota       Executive   \n",
       "5             B          10.0                1    New Mexico    Professional   \n",
       "6             E           2.0                1        Kansas  Sales - Retail   \n",
       "\n",
       "  EmploymentStatus  EmploymentStatusDuration  HomeOwner?     IncomeRange  \\\n",
       "1         Employed                      44.0       False  $50,000-74,999   \n",
       "3         Employed                     113.0        True  $25,000-49,999   \n",
       "4         Employed                      44.0        True       $100,000+   \n",
       "5         Employed                      82.0        True       $100,000+   \n",
       "6         Employed                     172.0       False  $25,000-49,999   \n",
       "\n",
       "   StatedMonthlyIncome  LoanOriginalAmount LoanOriginationMonth  \\\n",
       "1          6125.000000               10000                  Mar   \n",
       "3          2875.000000               10000                  Nov   \n",
       "4          9583.333333               15000                  Sep   \n",
       "5          8333.333333               15000                  Dec   \n",
       "6          2083.333333                3000                  Apr   \n",
       "\n",
       "   LoanOriginationYear  \n",
       "1                 2014  \n",
       "3                 2012  \n",
       "4                 2013  \n",
       "5                 2013  \n",
       "6                 2013  "
      ]
     },
     "execution_count": 16,
     "metadata": {},
     "output_type": "execute_result"
    }
   ],
   "source": [
    "#Changing the City codes to city name for better understanding\n",
    "\n",
    "state_dict = {'CO': 'Colorado', 'GA': 'Georgia', 'MN': 'Minnesota', 'NM': 'New Mexico', 'KS': 'Kansas', 'CA': 'California',\n",
    "              'IL': 'Illinois', 'MD': 'Maryland', 'AL': 'Alabama', 'AZ': 'Arizona', 'VA': 'Virginia','FL': 'Florida', \n",
    "              'PA': 'Pennsylvania', 'OR': 'Oregon', 'NY': 'New York', 'LA': 'Louisiana', 'WI': 'Wisconsin',\n",
    "              'OH': 'Ohio', 'NC': 'North Carolina', 'WA': 'Washington', 'MI': 'Michigan', 'NV': 'Nevada','NJ': 'New Jersey', \n",
    "              'TX': 'Texas', 'AR': 'Arkansas', 'SC': 'South Carolina', 'DE': 'Delaware', 'UT': 'Utah', \n",
    "              'DC': 'District of Columbia', 'MA': 'Massachusetts', 'MO': 'Missouri', 'CT': 'Connecticut', 'IN': 'Indiana',\n",
    "              'KY': 'Kentucky', 'OK': 'Oklahoma', 'MS': 'Mississippi', 'WV': 'West Virginia', 'RI': 'Rhode Island', \n",
    "              'TN': 'Tennessee', 'ID': 'Idaho', 'HI': 'Hawaii', 'NH': 'New Hampshire', 'NE': 'Nebraska', 'WY': 'Wyoming',\n",
    "              'AK': 'Alaska', 'MT': 'Montana', 'VT': 'Vermont', 'SD': 'South Dakota'}\n",
    "\n",
    "dff['BorrowerState'] = dff['BorrowerState'].map(state_dict)\n",
    "dff.head()"
   ]
  },
  {
   "cell_type": "markdown",
   "metadata": {},
   "source": [
    ">The listing number is in integer format but since it's a unique identifier and no mathematical operation will be performed on it, we will convert it to an object."
   ]
  },
  {
   "cell_type": "code",
   "execution_count": 17,
   "metadata": {},
   "outputs": [
    {
     "data": {
      "text/plain": [
       "dtype('O')"
      ]
     },
     "execution_count": 17,
     "metadata": {},
     "output_type": "execute_result"
    }
   ],
   "source": [
    "#Converting ListingNumber to string\n",
    "\n",
    "dff['ListingNumber'] = dff['ListingNumber'].astype(str)\n",
    "\n",
    "#Confirming the new data type\n",
    "\n",
    "dff['ListingNumber'].dtypes"
   ]
  },
  {
   "cell_type": "markdown",
   "metadata": {},
   "source": [
    "The ListingCategory is in numbers, but from the documentation of the data, each number represents a particular category, we will change the numbers to the category they represent for better understanding.\n",
    "\n",
    "As extracted from the [data dictionary]('https://docs.google.com/spreadsheets/d/1gDyi_L4UvIrLTEC6Wri5nbaMmkGmLQBk-Yx3z0XDEtI/edit#gid=0'), The ListingCategory is the category of the listing that the borrower selected when posting their listing:  \n",
    "0 - Not Available  \n",
    "1 - Debt Consolidation  \n",
    "2 - Home Improvement  \n",
    "3 - Business  \n",
    "4 - Personal Loan   \n",
    "5 - Student Use  \n",
    "6 - Auto  \n",
    "7- Other   \n",
    "8 - Baby&Adoption   \n",
    "9 - Boat  \n",
    "10 - Cosmetic Procedure   \n",
    "11 - Engagement Ring  \n",
    "12 - Green Loans  \n",
    "13 - Household Expenses   \n",
    "14 - Large Purchases  \n",
    "15 - Medical/Dental  \n",
    "16 - Motorcycle  \n",
    "17 - RV  \n",
    "18 - Taxes   \n",
    "19 - Vacation    \n",
    "20 - Wedding Loans"
   ]
  },
  {
   "cell_type": "code",
   "execution_count": 18,
   "metadata": {},
   "outputs": [
    {
     "data": {
      "text/html": [
       "<div>\n",
       "<style scoped>\n",
       "    .dataframe tbody tr th:only-of-type {\n",
       "        vertical-align: middle;\n",
       "    }\n",
       "\n",
       "    .dataframe tbody tr th {\n",
       "        vertical-align: top;\n",
       "    }\n",
       "\n",
       "    .dataframe thead th {\n",
       "        text-align: right;\n",
       "    }\n",
       "</style>\n",
       "<table border=\"1\" class=\"dataframe\">\n",
       "  <thead>\n",
       "    <tr style=\"text-align: right;\">\n",
       "      <th></th>\n",
       "      <th>ListingNumber</th>\n",
       "      <th>Term</th>\n",
       "      <th>LoanStatus</th>\n",
       "      <th>BorrowerAPR</th>\n",
       "      <th>BorrowerRate</th>\n",
       "      <th>LenderYield</th>\n",
       "      <th>ProsperRating</th>\n",
       "      <th>ProsperScore</th>\n",
       "      <th>ListingCategory</th>\n",
       "      <th>BorrowerState</th>\n",
       "      <th>Occupation</th>\n",
       "      <th>EmploymentStatus</th>\n",
       "      <th>EmploymentStatusDuration</th>\n",
       "      <th>HomeOwner?</th>\n",
       "      <th>IncomeRange</th>\n",
       "      <th>StatedMonthlyIncome</th>\n",
       "      <th>LoanOriginalAmount</th>\n",
       "      <th>LoanOriginationMonth</th>\n",
       "      <th>LoanOriginationYear</th>\n",
       "    </tr>\n",
       "  </thead>\n",
       "  <tbody>\n",
       "    <tr>\n",
       "      <th>1</th>\n",
       "      <td>1209647</td>\n",
       "      <td>36</td>\n",
       "      <td>Current</td>\n",
       "      <td>0.12016</td>\n",
       "      <td>0.0920</td>\n",
       "      <td>0.0820</td>\n",
       "      <td>A</td>\n",
       "      <td>7.0</td>\n",
       "      <td>Home Improvement</td>\n",
       "      <td>Colorado</td>\n",
       "      <td>Professional</td>\n",
       "      <td>Employed</td>\n",
       "      <td>44.0</td>\n",
       "      <td>False</td>\n",
       "      <td>$50,000-74,999</td>\n",
       "      <td>6125.000000</td>\n",
       "      <td>10000</td>\n",
       "      <td>Mar</td>\n",
       "      <td>2014</td>\n",
       "    </tr>\n",
       "    <tr>\n",
       "      <th>3</th>\n",
       "      <td>658116</td>\n",
       "      <td>36</td>\n",
       "      <td>Current</td>\n",
       "      <td>0.12528</td>\n",
       "      <td>0.0974</td>\n",
       "      <td>0.0874</td>\n",
       "      <td>A</td>\n",
       "      <td>9.0</td>\n",
       "      <td>Motorcycle</td>\n",
       "      <td>Georgia</td>\n",
       "      <td>Skilled Labor</td>\n",
       "      <td>Employed</td>\n",
       "      <td>113.0</td>\n",
       "      <td>True</td>\n",
       "      <td>$25,000-49,999</td>\n",
       "      <td>2875.000000</td>\n",
       "      <td>10000</td>\n",
       "      <td>Nov</td>\n",
       "      <td>2012</td>\n",
       "    </tr>\n",
       "    <tr>\n",
       "      <th>4</th>\n",
       "      <td>909464</td>\n",
       "      <td>36</td>\n",
       "      <td>Current</td>\n",
       "      <td>0.24614</td>\n",
       "      <td>0.2085</td>\n",
       "      <td>0.1985</td>\n",
       "      <td>D</td>\n",
       "      <td>4.0</td>\n",
       "      <td>Home Improvement</td>\n",
       "      <td>Minnesota</td>\n",
       "      <td>Executive</td>\n",
       "      <td>Employed</td>\n",
       "      <td>44.0</td>\n",
       "      <td>True</td>\n",
       "      <td>$100,000+</td>\n",
       "      <td>9583.333333</td>\n",
       "      <td>15000</td>\n",
       "      <td>Sep</td>\n",
       "      <td>2013</td>\n",
       "    </tr>\n",
       "    <tr>\n",
       "      <th>5</th>\n",
       "      <td>1074836</td>\n",
       "      <td>60</td>\n",
       "      <td>Current</td>\n",
       "      <td>0.15425</td>\n",
       "      <td>0.1314</td>\n",
       "      <td>0.1214</td>\n",
       "      <td>B</td>\n",
       "      <td>10.0</td>\n",
       "      <td>Debt Consolidation</td>\n",
       "      <td>New Mexico</td>\n",
       "      <td>Professional</td>\n",
       "      <td>Employed</td>\n",
       "      <td>82.0</td>\n",
       "      <td>True</td>\n",
       "      <td>$100,000+</td>\n",
       "      <td>8333.333333</td>\n",
       "      <td>15000</td>\n",
       "      <td>Dec</td>\n",
       "      <td>2013</td>\n",
       "    </tr>\n",
       "    <tr>\n",
       "      <th>6</th>\n",
       "      <td>750899</td>\n",
       "      <td>36</td>\n",
       "      <td>Current</td>\n",
       "      <td>0.31032</td>\n",
       "      <td>0.2712</td>\n",
       "      <td>0.2612</td>\n",
       "      <td>E</td>\n",
       "      <td>2.0</td>\n",
       "      <td>Debt Consolidation</td>\n",
       "      <td>Kansas</td>\n",
       "      <td>Sales - Retail</td>\n",
       "      <td>Employed</td>\n",
       "      <td>172.0</td>\n",
       "      <td>False</td>\n",
       "      <td>$25,000-49,999</td>\n",
       "      <td>2083.333333</td>\n",
       "      <td>3000</td>\n",
       "      <td>Apr</td>\n",
       "      <td>2013</td>\n",
       "    </tr>\n",
       "  </tbody>\n",
       "</table>\n",
       "</div>"
      ],
      "text/plain": [
       "  ListingNumber  Term LoanStatus  BorrowerAPR  BorrowerRate  LenderYield  \\\n",
       "1       1209647    36    Current      0.12016        0.0920       0.0820   \n",
       "3        658116    36    Current      0.12528        0.0974       0.0874   \n",
       "4        909464    36    Current      0.24614        0.2085       0.1985   \n",
       "5       1074836    60    Current      0.15425        0.1314       0.1214   \n",
       "6        750899    36    Current      0.31032        0.2712       0.2612   \n",
       "\n",
       "  ProsperRating  ProsperScore     ListingCategory BorrowerState  \\\n",
       "1             A           7.0    Home Improvement      Colorado   \n",
       "3             A           9.0          Motorcycle       Georgia   \n",
       "4             D           4.0    Home Improvement     Minnesota   \n",
       "5             B          10.0  Debt Consolidation    New Mexico   \n",
       "6             E           2.0  Debt Consolidation        Kansas   \n",
       "\n",
       "       Occupation EmploymentStatus  EmploymentStatusDuration  HomeOwner?  \\\n",
       "1    Professional         Employed                      44.0       False   \n",
       "3   Skilled Labor         Employed                     113.0        True   \n",
       "4       Executive         Employed                      44.0        True   \n",
       "5    Professional         Employed                      82.0        True   \n",
       "6  Sales - Retail         Employed                     172.0       False   \n",
       "\n",
       "      IncomeRange  StatedMonthlyIncome  LoanOriginalAmount  \\\n",
       "1  $50,000-74,999          6125.000000               10000   \n",
       "3  $25,000-49,999          2875.000000               10000   \n",
       "4       $100,000+          9583.333333               15000   \n",
       "5       $100,000+          8333.333333               15000   \n",
       "6  $25,000-49,999          2083.333333                3000   \n",
       "\n",
       "  LoanOriginationMonth  LoanOriginationYear  \n",
       "1                  Mar                 2014  \n",
       "3                  Nov                 2012  \n",
       "4                  Sep                 2013  \n",
       "5                  Dec                 2013  \n",
       "6                  Apr                 2013  "
      ]
     },
     "execution_count": 18,
     "metadata": {},
     "output_type": "execute_result"
    }
   ],
   "source": [
    "#Converting the numbers in the ListingCategory to actual categories\n",
    "\n",
    "def listing(ListingCategory):\n",
    "    \n",
    "    if ListingCategory == 0:\n",
    "        return 'Not Available'\n",
    "    \n",
    "    elif ListingCategory == 1:\n",
    "        return 'Debt Consolidation'\n",
    "    \n",
    "    elif ListingCategory == 2:\n",
    "        return 'Home Improvement'\n",
    "    \n",
    "    elif ListingCategory == 3:\n",
    "        return 'Business'\n",
    "    \n",
    "    elif ListingCategory == 4:\n",
    "        return 'Personal Loan'\n",
    "    \n",
    "    elif ListingCategory == 5:\n",
    "        return 'Student Use'\n",
    "    \n",
    "    elif ListingCategory == 6:\n",
    "        return 'Auto'\n",
    "    \n",
    "    elif ListingCategory == 7:\n",
    "        return 'Other'\n",
    "    \n",
    "    elif ListingCategory == 8:\n",
    "        return 'Baby&Adoption'\n",
    "    \n",
    "    elif ListingCategory == 9:\n",
    "        return 'Boat'\n",
    "    \n",
    "    elif ListingCategory == 10:\n",
    "        return 'Cosmetic Procedure'\n",
    "    \n",
    "    elif ListingCategory == 11:\n",
    "        return 'Engagement Ring'\n",
    "    \n",
    "    elif ListingCategory == 12:\n",
    "        return 'Green Loans'\n",
    "    \n",
    "    elif ListingCategory == 13:\n",
    "        return 'Household Expenses'\n",
    "    \n",
    "    elif ListingCategory == 14:\n",
    "        return 'Large Purchases'\n",
    "    \n",
    "    elif ListingCategory == 15:\n",
    "        return 'Medical/Dental'\n",
    "    \n",
    "    elif ListingCategory == 16:\n",
    "        return 'Motorcycle'\n",
    "    \n",
    "    elif ListingCategory == 17:\n",
    "        return 'RV'\n",
    "    \n",
    "    elif ListingCategory == 18:\n",
    "        return 'Taxes'\n",
    "    \n",
    "    elif ListingCategory == 19:\n",
    "        return 'Vacation'\n",
    "    \n",
    "    else:\n",
    "        return 'Wedding Loans'\n",
    "    \n",
    "dff['ListingCategory']= dff['ListingCategory'].apply(listing)\n",
    "dff.head()"
   ]
  },
  {
   "cell_type": "markdown",
   "metadata": {},
   "source": [
    ">Next, we want to convert the columns that are in categories to 'category' data type, this will help when plotting graphs."
   ]
  },
  {
   "cell_type": "code",
   "execution_count": 19,
   "metadata": {},
   "outputs": [
    {
     "data": {
      "text/plain": [
       "array([36, 60, 12], dtype=int64)"
      ]
     },
     "execution_count": 19,
     "metadata": {},
     "output_type": "execute_result"
    }
   ],
   "source": [
    "dff['Term'].unique()"
   ]
  },
  {
   "cell_type": "code",
   "execution_count": 20,
   "metadata": {
    "scrolled": true
   },
   "outputs": [
    {
     "data": {
      "text/plain": [
       "array(['Current', 'Past Due (1-15 days)', 'Defaulted', 'Completed',\n",
       "       'Chargedoff', 'Past Due (16-30 days)', 'Past Due (61-90 days)',\n",
       "       'Past Due (31-60 days)', 'Past Due (91-120 days)',\n",
       "       'FinalPaymentInProgress', 'Past Due (>120 days)'], dtype=object)"
      ]
     },
     "execution_count": 20,
     "metadata": {},
     "output_type": "execute_result"
    }
   ],
   "source": [
    "dff['LoanStatus'].unique()"
   ]
  },
  {
   "cell_type": "code",
   "execution_count": 21,
   "metadata": {},
   "outputs": [
    {
     "data": {
      "text/plain": [
       "array(['A', 'D', 'B', 'E', 'C', 'AA', 'HR'], dtype=object)"
      ]
     },
     "execution_count": 21,
     "metadata": {},
     "output_type": "execute_result"
    }
   ],
   "source": [
    "dff['ProsperRating'].unique()"
   ]
  },
  {
   "cell_type": "code",
   "execution_count": 22,
   "metadata": {},
   "outputs": [
    {
     "data": {
      "text/plain": [
       "array([ 7.,  9.,  4., 10.,  2., 11.,  8.,  5.,  3.,  6.,  1.])"
      ]
     },
     "execution_count": 22,
     "metadata": {},
     "output_type": "execute_result"
    }
   ],
   "source": [
    "dff['ProsperScore'].unique()"
   ]
  },
  {
   "cell_type": "code",
   "execution_count": 23,
   "metadata": {},
   "outputs": [
    {
     "data": {
      "text/plain": [
       "array(['Home Improvement', 'Motorcycle', 'Debt Consolidation', 'Other',\n",
       "       'Household Expenses', 'Auto', 'Medical/Dental', 'Wedding Loans',\n",
       "       'Vacation', 'Taxes', 'Business', 'Baby&Adoption',\n",
       "       'Engagement Ring', 'Large Purchases', 'Boat', 'RV',\n",
       "       'Cosmetic Procedure', 'Not Available', 'Student Use',\n",
       "       'Green Loans'], dtype=object)"
      ]
     },
     "execution_count": 23,
     "metadata": {},
     "output_type": "execute_result"
    }
   ],
   "source": [
    "dff['ListingCategory'].unique()"
   ]
  },
  {
   "cell_type": "code",
   "execution_count": 24,
   "metadata": {},
   "outputs": [
    {
     "data": {
      "text/plain": [
       "array(['Employed', 'Other', 'Full-time', 'Self-employed', 'Not employed',\n",
       "       'Retired', 'Part-time'], dtype=object)"
      ]
     },
     "execution_count": 24,
     "metadata": {},
     "output_type": "execute_result"
    }
   ],
   "source": [
    "dff['EmploymentStatus'].unique()"
   ]
  },
  {
   "cell_type": "code",
   "execution_count": 25,
   "metadata": {
    "scrolled": true
   },
   "outputs": [
    {
     "data": {
      "text/plain": [
       "array([False,  True])"
      ]
     },
     "execution_count": 25,
     "metadata": {},
     "output_type": "execute_result"
    }
   ],
   "source": [
    "dff['HomeOwner?'].unique()"
   ]
  },
  {
   "cell_type": "code",
   "execution_count": 26,
   "metadata": {},
   "outputs": [
    {
     "data": {
      "text/plain": [
       "array(['$50,000-74,999', '$25,000-49,999', '$100,000+', '$75,000-99,999',\n",
       "       '$1-24,999', 'Not employed', '$0'], dtype=object)"
      ]
     },
     "execution_count": 26,
     "metadata": {},
     "output_type": "execute_result"
    }
   ],
   "source": [
    "dff['IncomeRange'].unique()"
   ]
  },
  {
   "cell_type": "code",
   "execution_count": 27,
   "metadata": {},
   "outputs": [
    {
     "data": {
      "text/plain": [
       "array(['Mar', 'Nov', 'Sep', 'Dec', 'Apr', 'May', 'Jan', 'Jul', 'Oct',\n",
       "       'Feb', 'Jun', 'Aug'], dtype=object)"
      ]
     },
     "execution_count": 27,
     "metadata": {},
     "output_type": "execute_result"
    }
   ],
   "source": [
    "dff['LoanOriginationMonth'].unique()"
   ]
  },
  {
   "cell_type": "code",
   "execution_count": 28,
   "metadata": {},
   "outputs": [
    {
     "data": {
      "text/plain": [
       "array([2014, 2012, 2013, 2010, 2011, 2009], dtype=int64)"
      ]
     },
     "execution_count": 28,
     "metadata": {},
     "output_type": "execute_result"
    }
   ],
   "source": [
    "dff['LoanOriginationYear'].unique()"
   ]
  },
  {
   "cell_type": "code",
   "execution_count": 29,
   "metadata": {
    "scrolled": false
   },
   "outputs": [
    {
     "data": {
      "text/plain": [
       "ListingNumber                 object\n",
       "Term                        category\n",
       "LoanStatus                  category\n",
       "BorrowerAPR                  float64\n",
       "BorrowerRate                 float64\n",
       "LenderYield                  float64\n",
       "ProsperRating               category\n",
       "ProsperScore                category\n",
       "ListingCategory             category\n",
       "BorrowerState                 object\n",
       "Occupation                    object\n",
       "EmploymentStatus            category\n",
       "EmploymentStatusDuration     float64\n",
       "HomeOwner?                  category\n",
       "IncomeRange                 category\n",
       "StatedMonthlyIncome          float64\n",
       "LoanOriginalAmount             int64\n",
       "LoanOriginationMonth        category\n",
       "LoanOriginationYear         category\n",
       "dtype: object"
      ]
     },
     "execution_count": 29,
     "metadata": {},
     "output_type": "execute_result"
    }
   ],
   "source": [
    "#Converting the above columns to categorical data types\n",
    "\n",
    "ordinal_var_dict = {'Term': [12, 36, 60],\n",
    "                    'LoanStatus': ['Current', 'Past Due (1-15 days)','Past Due (16-30 days)','Past Due (31-60 days)', \n",
    "                                   'Past Due (61-90 days)','Past Due (91-120 days)','Past Due (>120 days)', \n",
    "                                   'FinalPaymentInProgress','Defaulted','Chargedoff', 'Completed'],\n",
    "                   'ProsperRating': ['AA', 'A','B', 'C', 'D', 'E', 'HR'],\n",
    "                   'ProsperScore': [ 1., 2., 3., 4., 5., 6., 7., 8.,  9., 10., 11.],\n",
    "                   'ListingCategory': ['Home Improvement', 'Motorcycle', 'Debt Consolidation', 'Other','Household Expenses',\n",
    "                                       'Auto', 'Medical/Dental', 'Wedding Loans','Vacation', 'Taxes', 'Business', \n",
    "                                       'Baby&Adoption','Engagement Ring', 'Large Purchases', 'Boat', 'RV',\n",
    "                                       'Cosmetic Procedure', 'Not Available', 'Student Use','Green Loans'],\n",
    "                   'EmploymentStatus': ['Employed',  'Full-time','Part-time', 'Self-employed', \n",
    "                                        'Retired','Not employed',  'Other',],\n",
    "                   'HomeOwner?': [True, False],\n",
    "                   'IncomeRange': ['Not employed', '$0', '$1-24,999', '$25,000-49,999', '$50,000-74,999', '$75,000-99,999', \n",
    "                                   '$100,000+'],\n",
    "                   'LoanOriginationMonth': ['Jan', 'Feb','Mar', 'Apr', 'May', 'Jun', 'Jul', 'Aug', 'Sep',\n",
    "                                            'Oct', 'Nov', 'Dec'],\n",
    "                   'LoanOriginationYear': [2009, 2010, 2011, 2012, 2013, 2014]}\n",
    "\n",
    "for var in ordinal_var_dict:\n",
    "    ordered_var = pd.api.types.CategoricalDtype(ordered = True, categories = ordinal_var_dict[var])\n",
    "    dff[var] = dff[var].astype(ordered_var)\n",
    "    \n",
    "#Confirming the data types of the columns\n",
    "\n",
    "dff.dtypes"
   ]
  },
  {
   "cell_type": "code",
   "execution_count": 30,
   "metadata": {},
   "outputs": [
    {
     "data": {
      "text/html": [
       "<div>\n",
       "<style scoped>\n",
       "    .dataframe tbody tr th:only-of-type {\n",
       "        vertical-align: middle;\n",
       "    }\n",
       "\n",
       "    .dataframe tbody tr th {\n",
       "        vertical-align: top;\n",
       "    }\n",
       "\n",
       "    .dataframe thead th {\n",
       "        text-align: right;\n",
       "    }\n",
       "</style>\n",
       "<table border=\"1\" class=\"dataframe\">\n",
       "  <thead>\n",
       "    <tr style=\"text-align: right;\">\n",
       "      <th></th>\n",
       "      <th>ListingNumber</th>\n",
       "      <th>Term</th>\n",
       "      <th>LoanStatus</th>\n",
       "      <th>BorrowerAPR</th>\n",
       "      <th>BorrowerRate</th>\n",
       "      <th>LenderYield</th>\n",
       "      <th>ProsperRating</th>\n",
       "      <th>ProsperScore</th>\n",
       "      <th>ListingCategory</th>\n",
       "      <th>BorrowerState</th>\n",
       "      <th>Occupation</th>\n",
       "      <th>EmploymentStatus</th>\n",
       "      <th>EmploymentStatusDuration</th>\n",
       "      <th>HomeOwner?</th>\n",
       "      <th>IncomeRange</th>\n",
       "      <th>StatedMonthlyIncome</th>\n",
       "      <th>LoanOriginalAmount</th>\n",
       "      <th>LoanOriginationMonth</th>\n",
       "      <th>LoanOriginationYear</th>\n",
       "    </tr>\n",
       "  </thead>\n",
       "  <tbody>\n",
       "    <tr>\n",
       "      <th>1</th>\n",
       "      <td>1209647</td>\n",
       "      <td>36</td>\n",
       "      <td>Current</td>\n",
       "      <td>0.12016</td>\n",
       "      <td>0.0920</td>\n",
       "      <td>0.0820</td>\n",
       "      <td>A</td>\n",
       "      <td>7.0</td>\n",
       "      <td>Home Improvement</td>\n",
       "      <td>Colorado</td>\n",
       "      <td>Professional</td>\n",
       "      <td>Employed</td>\n",
       "      <td>44.0</td>\n",
       "      <td>False</td>\n",
       "      <td>$50,000-74,999</td>\n",
       "      <td>6125.000000</td>\n",
       "      <td>10000</td>\n",
       "      <td>Mar</td>\n",
       "      <td>2014</td>\n",
       "    </tr>\n",
       "    <tr>\n",
       "      <th>3</th>\n",
       "      <td>658116</td>\n",
       "      <td>36</td>\n",
       "      <td>Current</td>\n",
       "      <td>0.12528</td>\n",
       "      <td>0.0974</td>\n",
       "      <td>0.0874</td>\n",
       "      <td>A</td>\n",
       "      <td>9.0</td>\n",
       "      <td>Motorcycle</td>\n",
       "      <td>Georgia</td>\n",
       "      <td>Skilled Labor</td>\n",
       "      <td>Employed</td>\n",
       "      <td>113.0</td>\n",
       "      <td>True</td>\n",
       "      <td>$25,000-49,999</td>\n",
       "      <td>2875.000000</td>\n",
       "      <td>10000</td>\n",
       "      <td>Nov</td>\n",
       "      <td>2012</td>\n",
       "    </tr>\n",
       "    <tr>\n",
       "      <th>4</th>\n",
       "      <td>909464</td>\n",
       "      <td>36</td>\n",
       "      <td>Current</td>\n",
       "      <td>0.24614</td>\n",
       "      <td>0.2085</td>\n",
       "      <td>0.1985</td>\n",
       "      <td>D</td>\n",
       "      <td>4.0</td>\n",
       "      <td>Home Improvement</td>\n",
       "      <td>Minnesota</td>\n",
       "      <td>Executive</td>\n",
       "      <td>Employed</td>\n",
       "      <td>44.0</td>\n",
       "      <td>True</td>\n",
       "      <td>$100,000+</td>\n",
       "      <td>9583.333333</td>\n",
       "      <td>15000</td>\n",
       "      <td>Sep</td>\n",
       "      <td>2013</td>\n",
       "    </tr>\n",
       "    <tr>\n",
       "      <th>5</th>\n",
       "      <td>1074836</td>\n",
       "      <td>60</td>\n",
       "      <td>Current</td>\n",
       "      <td>0.15425</td>\n",
       "      <td>0.1314</td>\n",
       "      <td>0.1214</td>\n",
       "      <td>B</td>\n",
       "      <td>10.0</td>\n",
       "      <td>Debt Consolidation</td>\n",
       "      <td>New Mexico</td>\n",
       "      <td>Professional</td>\n",
       "      <td>Employed</td>\n",
       "      <td>82.0</td>\n",
       "      <td>True</td>\n",
       "      <td>$100,000+</td>\n",
       "      <td>8333.333333</td>\n",
       "      <td>15000</td>\n",
       "      <td>Dec</td>\n",
       "      <td>2013</td>\n",
       "    </tr>\n",
       "    <tr>\n",
       "      <th>6</th>\n",
       "      <td>750899</td>\n",
       "      <td>36</td>\n",
       "      <td>Current</td>\n",
       "      <td>0.31032</td>\n",
       "      <td>0.2712</td>\n",
       "      <td>0.2612</td>\n",
       "      <td>E</td>\n",
       "      <td>2.0</td>\n",
       "      <td>Debt Consolidation</td>\n",
       "      <td>Kansas</td>\n",
       "      <td>Sales - Retail</td>\n",
       "      <td>Employed</td>\n",
       "      <td>172.0</td>\n",
       "      <td>False</td>\n",
       "      <td>$25,000-49,999</td>\n",
       "      <td>2083.333333</td>\n",
       "      <td>3000</td>\n",
       "      <td>Apr</td>\n",
       "      <td>2013</td>\n",
       "    </tr>\n",
       "  </tbody>\n",
       "</table>\n",
       "</div>"
      ],
      "text/plain": [
       "  ListingNumber Term LoanStatus  BorrowerAPR  BorrowerRate  LenderYield  \\\n",
       "1       1209647   36    Current      0.12016        0.0920       0.0820   \n",
       "3        658116   36    Current      0.12528        0.0974       0.0874   \n",
       "4        909464   36    Current      0.24614        0.2085       0.1985   \n",
       "5       1074836   60    Current      0.15425        0.1314       0.1214   \n",
       "6        750899   36    Current      0.31032        0.2712       0.2612   \n",
       "\n",
       "  ProsperRating ProsperScore     ListingCategory BorrowerState  \\\n",
       "1             A          7.0    Home Improvement      Colorado   \n",
       "3             A          9.0          Motorcycle       Georgia   \n",
       "4             D          4.0    Home Improvement     Minnesota   \n",
       "5             B         10.0  Debt Consolidation    New Mexico   \n",
       "6             E          2.0  Debt Consolidation        Kansas   \n",
       "\n",
       "       Occupation EmploymentStatus  EmploymentStatusDuration HomeOwner?  \\\n",
       "1    Professional         Employed                      44.0      False   \n",
       "3   Skilled Labor         Employed                     113.0       True   \n",
       "4       Executive         Employed                      44.0       True   \n",
       "5    Professional         Employed                      82.0       True   \n",
       "6  Sales - Retail         Employed                     172.0      False   \n",
       "\n",
       "      IncomeRange  StatedMonthlyIncome  LoanOriginalAmount  \\\n",
       "1  $50,000-74,999          6125.000000               10000   \n",
       "3  $25,000-49,999          2875.000000               10000   \n",
       "4       $100,000+          9583.333333               15000   \n",
       "5       $100,000+          8333.333333               15000   \n",
       "6  $25,000-49,999          2083.333333                3000   \n",
       "\n",
       "  LoanOriginationMonth LoanOriginationYear  \n",
       "1                  Mar                2014  \n",
       "3                  Nov                2012  \n",
       "4                  Sep                2013  \n",
       "5                  Dec                2013  \n",
       "6                  Apr                2013  "
      ]
     },
     "execution_count": 30,
     "metadata": {},
     "output_type": "execute_result"
    }
   ],
   "source": [
    "dff.head()"
   ]
  },
  {
   "cell_type": "code",
   "execution_count": 31,
   "metadata": {},
   "outputs": [
    {
     "data": {
      "text/plain": [
       "(83507, 19)"
      ]
     },
     "execution_count": 31,
     "metadata": {},
     "output_type": "execute_result"
    }
   ],
   "source": [
    "dff.shape"
   ]
  },
  {
   "cell_type": "markdown",
   "metadata": {},
   "source": [
    ">The BorrowerAPR which is the Borrower's Annual Percentage Rate, the BorrowerRate and the LenderYield are better expressed as a percentage so, we will convert them to percents."
   ]
  },
  {
   "cell_type": "code",
   "execution_count": 32,
   "metadata": {},
   "outputs": [
    {
     "data": {
      "text/html": [
       "<div>\n",
       "<style scoped>\n",
       "    .dataframe tbody tr th:only-of-type {\n",
       "        vertical-align: middle;\n",
       "    }\n",
       "\n",
       "    .dataframe tbody tr th {\n",
       "        vertical-align: top;\n",
       "    }\n",
       "\n",
       "    .dataframe thead th {\n",
       "        text-align: right;\n",
       "    }\n",
       "</style>\n",
       "<table border=\"1\" class=\"dataframe\">\n",
       "  <thead>\n",
       "    <tr style=\"text-align: right;\">\n",
       "      <th></th>\n",
       "      <th>ListingNumber</th>\n",
       "      <th>Term</th>\n",
       "      <th>LoanStatus</th>\n",
       "      <th>BorrowerAPR</th>\n",
       "      <th>BorrowerRate</th>\n",
       "      <th>LenderYield</th>\n",
       "      <th>ProsperRating</th>\n",
       "      <th>ProsperScore</th>\n",
       "      <th>ListingCategory</th>\n",
       "      <th>BorrowerState</th>\n",
       "      <th>Occupation</th>\n",
       "      <th>EmploymentStatus</th>\n",
       "      <th>EmploymentStatusDuration</th>\n",
       "      <th>HomeOwner?</th>\n",
       "      <th>IncomeRange</th>\n",
       "      <th>StatedMonthlyIncome</th>\n",
       "      <th>LoanOriginalAmount</th>\n",
       "      <th>LoanOriginationMonth</th>\n",
       "      <th>LoanOriginationYear</th>\n",
       "    </tr>\n",
       "  </thead>\n",
       "  <tbody>\n",
       "    <tr>\n",
       "      <th>1</th>\n",
       "      <td>1209647</td>\n",
       "      <td>36</td>\n",
       "      <td>Current</td>\n",
       "      <td>12.02</td>\n",
       "      <td>9.20</td>\n",
       "      <td>8.20</td>\n",
       "      <td>A</td>\n",
       "      <td>7.0</td>\n",
       "      <td>Home Improvement</td>\n",
       "      <td>Colorado</td>\n",
       "      <td>Professional</td>\n",
       "      <td>Employed</td>\n",
       "      <td>44.0</td>\n",
       "      <td>False</td>\n",
       "      <td>$50,000-74,999</td>\n",
       "      <td>6125.000000</td>\n",
       "      <td>10000</td>\n",
       "      <td>Mar</td>\n",
       "      <td>2014</td>\n",
       "    </tr>\n",
       "    <tr>\n",
       "      <th>3</th>\n",
       "      <td>658116</td>\n",
       "      <td>36</td>\n",
       "      <td>Current</td>\n",
       "      <td>12.53</td>\n",
       "      <td>9.74</td>\n",
       "      <td>8.74</td>\n",
       "      <td>A</td>\n",
       "      <td>9.0</td>\n",
       "      <td>Motorcycle</td>\n",
       "      <td>Georgia</td>\n",
       "      <td>Skilled Labor</td>\n",
       "      <td>Employed</td>\n",
       "      <td>113.0</td>\n",
       "      <td>True</td>\n",
       "      <td>$25,000-49,999</td>\n",
       "      <td>2875.000000</td>\n",
       "      <td>10000</td>\n",
       "      <td>Nov</td>\n",
       "      <td>2012</td>\n",
       "    </tr>\n",
       "    <tr>\n",
       "      <th>4</th>\n",
       "      <td>909464</td>\n",
       "      <td>36</td>\n",
       "      <td>Current</td>\n",
       "      <td>24.61</td>\n",
       "      <td>20.85</td>\n",
       "      <td>19.85</td>\n",
       "      <td>D</td>\n",
       "      <td>4.0</td>\n",
       "      <td>Home Improvement</td>\n",
       "      <td>Minnesota</td>\n",
       "      <td>Executive</td>\n",
       "      <td>Employed</td>\n",
       "      <td>44.0</td>\n",
       "      <td>True</td>\n",
       "      <td>$100,000+</td>\n",
       "      <td>9583.333333</td>\n",
       "      <td>15000</td>\n",
       "      <td>Sep</td>\n",
       "      <td>2013</td>\n",
       "    </tr>\n",
       "    <tr>\n",
       "      <th>5</th>\n",
       "      <td>1074836</td>\n",
       "      <td>60</td>\n",
       "      <td>Current</td>\n",
       "      <td>15.42</td>\n",
       "      <td>13.14</td>\n",
       "      <td>12.14</td>\n",
       "      <td>B</td>\n",
       "      <td>10.0</td>\n",
       "      <td>Debt Consolidation</td>\n",
       "      <td>New Mexico</td>\n",
       "      <td>Professional</td>\n",
       "      <td>Employed</td>\n",
       "      <td>82.0</td>\n",
       "      <td>True</td>\n",
       "      <td>$100,000+</td>\n",
       "      <td>8333.333333</td>\n",
       "      <td>15000</td>\n",
       "      <td>Dec</td>\n",
       "      <td>2013</td>\n",
       "    </tr>\n",
       "    <tr>\n",
       "      <th>6</th>\n",
       "      <td>750899</td>\n",
       "      <td>36</td>\n",
       "      <td>Current</td>\n",
       "      <td>31.03</td>\n",
       "      <td>27.12</td>\n",
       "      <td>26.12</td>\n",
       "      <td>E</td>\n",
       "      <td>2.0</td>\n",
       "      <td>Debt Consolidation</td>\n",
       "      <td>Kansas</td>\n",
       "      <td>Sales - Retail</td>\n",
       "      <td>Employed</td>\n",
       "      <td>172.0</td>\n",
       "      <td>False</td>\n",
       "      <td>$25,000-49,999</td>\n",
       "      <td>2083.333333</td>\n",
       "      <td>3000</td>\n",
       "      <td>Apr</td>\n",
       "      <td>2013</td>\n",
       "    </tr>\n",
       "  </tbody>\n",
       "</table>\n",
       "</div>"
      ],
      "text/plain": [
       "  ListingNumber Term LoanStatus  BorrowerAPR  BorrowerRate  LenderYield  \\\n",
       "1       1209647   36    Current        12.02          9.20         8.20   \n",
       "3        658116   36    Current        12.53          9.74         8.74   \n",
       "4        909464   36    Current        24.61         20.85        19.85   \n",
       "5       1074836   60    Current        15.42         13.14        12.14   \n",
       "6        750899   36    Current        31.03         27.12        26.12   \n",
       "\n",
       "  ProsperRating ProsperScore     ListingCategory BorrowerState  \\\n",
       "1             A          7.0    Home Improvement      Colorado   \n",
       "3             A          9.0          Motorcycle       Georgia   \n",
       "4             D          4.0    Home Improvement     Minnesota   \n",
       "5             B         10.0  Debt Consolidation    New Mexico   \n",
       "6             E          2.0  Debt Consolidation        Kansas   \n",
       "\n",
       "       Occupation EmploymentStatus  EmploymentStatusDuration HomeOwner?  \\\n",
       "1    Professional         Employed                      44.0      False   \n",
       "3   Skilled Labor         Employed                     113.0       True   \n",
       "4       Executive         Employed                      44.0       True   \n",
       "5    Professional         Employed                      82.0       True   \n",
       "6  Sales - Retail         Employed                     172.0      False   \n",
       "\n",
       "      IncomeRange  StatedMonthlyIncome  LoanOriginalAmount  \\\n",
       "1  $50,000-74,999          6125.000000               10000   \n",
       "3  $25,000-49,999          2875.000000               10000   \n",
       "4       $100,000+          9583.333333               15000   \n",
       "5       $100,000+          8333.333333               15000   \n",
       "6  $25,000-49,999          2083.333333                3000   \n",
       "\n",
       "  LoanOriginationMonth LoanOriginationYear  \n",
       "1                  Mar                2014  \n",
       "3                  Nov                2012  \n",
       "4                  Sep                2013  \n",
       "5                  Dec                2013  \n",
       "6                  Apr                2013  "
      ]
     },
     "execution_count": 32,
     "metadata": {},
     "output_type": "execute_result"
    }
   ],
   "source": [
    "#Converting BorrowerAPR, BorrowerRate and LenderYield to percentage\n",
    "\n",
    "dff['BorrowerAPR'] = (dff['BorrowerAPR']*100).round(2)\n",
    "dff['BorrowerRate'] = (dff['BorrowerRate']*100).round(2)\n",
    "dff['LenderYield'] = (dff['LenderYield']*100).round(2)\n",
    "\n",
    "dff.head()"
   ]
  },
  {
   "cell_type": "code",
   "execution_count": 33,
   "metadata": {
    "scrolled": true
   },
   "outputs": [
    {
     "data": {
      "text/plain": [
       "(83507, 19)"
      ]
     },
     "execution_count": 33,
     "metadata": {},
     "output_type": "execute_result"
    }
   ],
   "source": [
    "dff.shape"
   ]
  },
  {
   "cell_type": "markdown",
   "metadata": {},
   "source": [
    "Now!, this is what we have! Let's briefly answer a few questions on our dataset. Leggo..."
   ]
  },
  {
   "cell_type": "markdown",
   "metadata": {},
   "source": [
    "### What is the structure of your dataset?\n",
    "\n",
    "> The main dataset contain **113937** rows and **81** columns. After thorough cleaning, the dataset contains **83507** records and **19** features.  \n",
    "The variables includes:  \n",
    "**ListingNumber:** The number that uniquely identifies the listing to the public as displayed on the website.  \n",
    "**Term:** The length of the loan expressed in months.  \n",
    "**LoanStatus:** The current status of the loan: Cancelled, Chargedoff, Completed, Current, Defaulted, FinalPaymentInProgress.  \n",
    "**ProsperRating:** The Prosper Rating assigned at the time the listing was created between AA - HR. Applicable for loans originated after July 2009.  \n",
    "**BorrowerAPR:** The Borrower's Annual Percentage Rate (APR) for the loan.  \n",
    "**BorrowerRate:** The Borrower's interest rate for this loan.  \n",
    "**LenderYield:** The Lender yield on the loan. Lender yield is equal to the interest rate on the loan less the servicing fee.  \n",
    "**ProsperScore:** A custom risk score built using historical Prosper data. The score ranges from 1-10, with 10 being the best, or lowest risk score. Applicable for loans originated after July 2009.  \n",
    "**Listing_category:** The category of the listing that the borrower selected when posting their listing.  \n",
    "**Occupation:** The Occupation selected by the Borrower at the time they created the listing.  \n",
    "**EmploymentStatus:** The employment status of the borrower at the time they posted the listing.  \n",
    "**EmploymentStatusDuration:** The length in months of the employment status at the time the listing was created.  \n",
    "**Homeowner?:** A Borrower will be classified as a homowner if they have a mortgage on their credit profile or provide documentation confirming they are a homeowner.  \n",
    "**IncomeRange:** The income range of the borrower at the time the listing was created.  \n",
    "**LoanOriginalAmount:** The origination amount of the loan.  \n",
    "**BorrowerState:** The two letter abbreviation of the state of the address of the borrower at the time the Listing was created.  \n",
    "**StatedMonthlyIncome:** The monthly income the borrower stated at the time the listing was created.  \n",
    "**LoanOriginationYear:** The date the loan was originated.  \n",
    "**LoanOriginationMonth:** The Month the loan was originated.  \n",
    "\n",
    "### What is/are the main feature(s) of interest in your dataset?\n",
    "\n",
    "> BorrowerAPR  \n",
    "LenderYield  \n",
    "LoanOriginalAmount  \n",
    "\n",
    "### What features in the dataset do you think will help support your investigation into your feature(s) of interest?\n",
    "\n",
    "> ProspeRating  \n",
    "ProsperScore  \n",
    "Occupation  \n",
    "EmploymentStatus  \n",
    "IncomeRange "
   ]
  },
  {
   "cell_type": "markdown",
   "metadata": {},
   "source": [
    "## Univariate Exploration\n",
    "\n",
    "> In this section, we will investigate the distributions of individual variables, look\n",
    "out for unusual points or outliers, take a deeper look to clean things up\n",
    "and prepare to look at relationships between variables.\n",
    "\n",
    ">**Note**: We will use the \"Question-Visualization-Observations\" framework  throughout the exploration. This framework involves **asking a question from the data, creating a visualization to find answers, and then recording observations after each visualisation.** \n"
   ]
  },
  {
   "cell_type": "markdown",
   "metadata": {},
   "source": [
    "### Question 1:"
   ]
  },
  {
   "cell_type": "markdown",
   "metadata": {},
   "source": [
    "**What is the distribution of Loan status and Listing category in the data set?**"
   ]
  },
  {
   "cell_type": "markdown",
   "metadata": {},
   "source": [
    "### Visualisation"
   ]
  },
  {
   "cell_type": "code",
   "execution_count": 34,
   "metadata": {
    "scrolled": false
   },
   "outputs": [
    {
     "data": {
      "image/png": "[encoded data removed]",
      "text/plain": [
       "<Figure size 720x360 with 2 Axes>"
      ]
     },
     "metadata": {
      "needs_background": "light"
     },
     "output_type": "display_data"
    }
   ],
   "source": [
    "fig = plt.figure(figsize=(10, 5))\n",
    "\n",
    "#Distribution of LoanStatus\n",
    "\n",
    "plt.subplot(1,2,1)\n",
    "sns.countplot(data = dff, x='LoanStatus', color = 'blue')\n",
    "plt.xticks(rotation=90)\n",
    "plt.title('Distribution of Loan Status', fontweight = 'bold')\n",
    "\n",
    "#Distribution of ListingCategory\n",
    "\n",
    "plt.subplot(1,2,2)\n",
    "sns.countplot(data = dff, x='ListingCategory', color = 'green')\n",
    "plt.xticks(rotation=90)\n",
    "plt.title('Prevalence of Listing Categories Amongst Borrowers', fontweight = 'bold')\n",
    "\n",
    "plt.tight_layout();"
   ]
  },
  {
   "cell_type": "markdown",
   "metadata": {},
   "source": [
    "### Observation"
   ]
  },
  {
   "cell_type": "markdown",
   "metadata": {},
   "source": [
    ">   The vast majority of the loan data collected has borrowers still running their loan term ie 'current'. Next is the total number of loans that have been completed. The third most common instance in the distribution of loan status are those charged off. This means that a portion or an amount of an account owed is removed, counting as a loss (as a gesture of goodwill for example). The number of borrowers who defaulted follows the charged off loans, although, the gap is very glaring.   \n",
    "  Debt consolidation is the most prevalent listing category in the data set. More than half of all the loans are taken for debt consolidation. Debt consolidation means that the various debts of a borrower whether credit card bills or other loan payments are rolled into one loan or monthly payment. If one has multiple credit card accounts or loans, consolidation may be a way to simplify or lower payments. The next most prevalent category is the 'other' category and is about one fifth as much as the debt consolidation category when compared. Next is the 'home improvement' category which is almost as prevalent as the 'other' category."
   ]
  },
  {
   "cell_type": "markdown",
   "metadata": {},
   "source": [
    "### Question 2:"
   ]
  },
  {
   "cell_type": "markdown",
   "metadata": {},
   "source": [
    "**What is the distribution of Home owners and Employment status in the data set?**"
   ]
  },
  {
   "cell_type": "markdown",
   "metadata": {},
   "source": [
    "### Visualisation"
   ]
  },
  {
   "cell_type": "code",
   "execution_count": 35,
   "metadata": {},
   "outputs": [
    {
     "data": {
      "image/png": "[encoded data removed]",
      "text/plain": [
       "<Figure size 720x360 with 2 Axes>"
      ]
     },
     "metadata": {
      "needs_background": "light"
     },
     "output_type": "display_data"
    }
   ],
   "source": [
    "#Distribution of HomeOwners\n",
    "\n",
    "plt.subplot(1,2,1)\n",
    "dff['HomeOwner?'].value_counts().plot(kind= 'pie', figsize= (10,5), startangle= 360,\n",
    "                                      labels = ['Home Owner', 'Not an Home Owner'], autopct='%1.1f%%')\n",
    "plt.title('Distribution of Home Owners', fontweight = 'bold')\n",
    "\n",
    "#Distribution of EmploymentStatus\n",
    "\n",
    "plt.subplot(1,2,2)\n",
    "sns.countplot(data = dff, x='EmploymentStatus', color = 'green')\n",
    "plt.xticks(rotation=45)\n",
    "plt.title('Number of Borrowers by Employment Status', fontweight = 'bold')\n",
    "\n",
    "plt.tight_layout()"
   ]
  },
  {
   "cell_type": "markdown",
   "metadata": {},
   "source": [
    "### Observation"
   ]
  },
  {
   "cell_type": "markdown",
   "metadata": {},
   "source": [
    "> The number of borrowers who are home owners and those who aren't is evenly distributed in the data set, although, the number of home owners is slightly higher than those who do not own a house.   \n",
    "Majority of the borrowers are employed, as expected. Who will lend out a loan to someone who doesn't have a means of paying back ? Not me though!. The least common borrowers work part time or are retired. We assume most retired people have pension to live on. Just an assumption..."
   ]
  },
  {
   "cell_type": "markdown",
   "metadata": {},
   "source": [
    "### Question 3:"
   ]
  },
  {
   "cell_type": "markdown",
   "metadata": {},
   "source": [
    "**What is the distribution of Term of loan, Loan origination Month and Year?** "
   ]
  },
  {
   "cell_type": "markdown",
   "metadata": {},
   "source": [
    "### Visualisation"
   ]
  },
  {
   "cell_type": "code",
   "execution_count": 36,
   "metadata": {},
   "outputs": [
    {
     "data": {
      "image/png": "[encoded data removed]",
      "text/plain": [
       "<Figure size 720x576 with 3 Axes>"
      ]
     },
     "metadata": {
      "needs_background": "light"
     },
     "output_type": "display_data"
    }
   ],
   "source": [
    "fig = plt.figure(figsize=(10, 8))\n",
    "\n",
    "#Distribution of Term\n",
    "\n",
    "plt.subplot(2,2,1)\n",
    "sns.countplot(data = dff, x='Term', color = 'orange')\n",
    "plt.title('Distribution of Loan Term in Months', fontweight = 'bold')\n",
    "\n",
    "#Distribution of LoanOriginationMonth\n",
    "\n",
    "plt.subplot(2,2,2)\n",
    "sns.countplot(data = dff, x='LoanOriginationMonth', color = 'green')\n",
    "plt.xticks(rotation=15)\n",
    "plt.title('Number of Loans taken by Month', fontweight = 'bold')\n",
    "\n",
    "#Distribution of LoanOriginationYear\n",
    "\n",
    "plt.subplot(2,1,2)\n",
    "sns.countplot(data = dff, x='LoanOriginationYear', color = 'blue')\n",
    "plt.title('Number of Loans taken by Year', fontweight = 'bold')\n",
    "\n",
    "plt.tight_layout();"
   ]
  },
  {
   "cell_type": "markdown",
   "metadata": {},
   "source": [
    "### Observation"
   ]
  },
  {
   "cell_type": "markdown",
   "metadata": {},
   "source": [
    "> Three distinct terms of loan was captured in the data set. One year, three years and five years, recorded in number of months as in, 12 months, 36 months and 60 months respectively. The most frequent loan term is three years, followed by five years. Borrowers seldom take a one-year loan.  \n",
    "The prevalence of loan taking over the months, yearly follows a V-shaped distribution in that the frequency of loan taking is highest in January, the first month of the year and reduces exponentially in the first quater and then increases steadily till the end of the year with a slight drop in November. In summary, People take loans mostly in January, some New year resolution deals *winks*.   \n",
    "The data set captures loans taken between 2009 and 2014. Of the six years, 2013 had the highest number of borrowers. Further investigation will need to be taken to find out why. The number of borrowers actually increased steadily from 2009 to 2013 and there was a significant drop in 2014."
   ]
  },
  {
   "cell_type": "markdown",
   "metadata": {},
   "source": [
    "### Question 4:"
   ]
  },
  {
   "cell_type": "markdown",
   "metadata": {},
   "source": [
    "**What is the distribution of Loan original amount?**"
   ]
  },
  {
   "cell_type": "markdown",
   "metadata": {},
   "source": [
    "### Visualisation"
   ]
  },
  {
   "cell_type": "code",
   "execution_count": 37,
   "metadata": {},
   "outputs": [
    {
     "data": {
      "image/png": "[encoded data removed]",
      "text/plain": [
       "<Figure size 432x288 with 1 Axes>"
      ]
     },
     "metadata": {
      "needs_background": "light"
     },
     "output_type": "display_data"
    },
    {
     "data": {
      "image/png": "[encoded data removed]",
      "text/plain": [
       "<Figure size 720x360 with 1 Axes>"
      ]
     },
     "metadata": {
      "needs_background": "light"
     },
     "output_type": "display_data"
    }
   ],
   "source": [
    "#Plotting a histogram for the distribution of LoanOriginalAmount\n",
    "\n",
    "plt.hist(data = dff, x='LoanOriginalAmount')\n",
    "plt.xlabel('Loan Original Amount in Dollars')\n",
    "plt.ylabel('Count')\n",
    "plt.title('Distribution of Loan Amount', fontweight = 'bold')\n",
    "\n",
    "#Reducing bin size to zoom out the histogram\n",
    "binsize = 500\n",
    "bins = np.arange(0, dff['LoanOriginalAmount'].max()+binsize, binsize)\n",
    "plt.figure(figsize=[10, 5])\n",
    "plt.hist(data = dff, x = 'LoanOriginalAmount', bins = bins)\n",
    "plt.xlabel('Loan Original Amount in Dollars')\n",
    "plt.ylabel('Count')\n",
    "plt.title('Distribution of Loan Amount(Clearer View)', fontweight = 'bold');\n",
    "plt.show()"
   ]
  },
  {
   "cell_type": "markdown",
   "metadata": {},
   "source": [
    "### Observation"
   ]
  },
  {
   "cell_type": "markdown",
   "metadata": {},
   "source": [
    "> The distribution of the amount of loan taken is **trimodal**, having peaks around 5,000, 10,000 and 15,000 dollars. The most commmon amount taken as loan is around 5,000 dollars followed by 15,000 dollars and then 10,000 dollars. "
   ]
  },
  {
   "cell_type": "markdown",
   "metadata": {},
   "source": [
    "### Question 5:"
   ]
  },
  {
   "cell_type": "markdown",
   "metadata": {},
   "source": [
    "**What is the distribution of Borrower APR?**"
   ]
  },
  {
   "cell_type": "markdown",
   "metadata": {},
   "source": [
    "### Visualisation"
   ]
  },
  {
   "cell_type": "code",
   "execution_count": 38,
   "metadata": {},
   "outputs": [
    {
     "data": {
      "image/png": "[encoded data removed]",
      "text/plain": [
       "<Figure size 432x288 with 1 Axes>"
      ]
     },
     "metadata": {
      "needs_background": "light"
     },
     "output_type": "display_data"
    },
    {
     "data": {
      "image/png": "[encoded data removed]",
      "text/plain": [
       "<Figure size 720x360 with 1 Axes>"
      ]
     },
     "metadata": {
      "needs_background": "light"
     },
     "output_type": "display_data"
    }
   ],
   "source": [
    "# A simple histogram plot of the variable LoanOriginalAmount\n",
    "\n",
    "plt.hist(data = dff, x='BorrowerAPR', color = 'green')\n",
    "plt.xlabel('Borrower Annual Percentage Rate')\n",
    "plt.ylabel('Count')\n",
    "plt.title('Distribution of Borrower Annual Percentage Rate', fontweight = 'bold')\n",
    "\n",
    "#further investigating\n",
    "binsize = 0.5\n",
    "bins = np.arange(0, dff['BorrowerAPR'].max()+binsize, binsize)\n",
    "plt.figure(figsize=[10, 5])\n",
    "plt.hist(data = dff, x = 'BorrowerAPR', color = 'green', bins = bins)\n",
    "plt.xlabel('Borrower Annual Percentage Rate')\n",
    "plt.ylabel('Count')\n",
    "plt.title('Distribution of Borrower Annual Percentage Rate(Clearer View)', fontweight = 'bold');\n",
    "plt.show()"
   ]
  },
  {
   "cell_type": "markdown",
   "metadata": {},
   "source": [
    "### Observation"
   ]
  },
  {
   "cell_type": "markdown",
   "metadata": {},
   "source": [
    "> The BorrowerAPR shows a **unimodal** distribution in the left side of the plot. The APR with the highest frequency of occurence is about 37%."
   ]
  },
  {
   "cell_type": "markdown",
   "metadata": {},
   "source": [
    "### Question 6:"
   ]
  },
  {
   "cell_type": "markdown",
   "metadata": {},
   "source": [
    "**Which states have the most borrowers?**"
   ]
  },
  {
   "cell_type": "markdown",
   "metadata": {},
   "source": [
    "### Visualisation"
   ]
  },
  {
   "cell_type": "code",
   "execution_count": 39,
   "metadata": {
    "scrolled": false
   },
   "outputs": [
    {
     "data": {
      "image/png": "[encoded data removed]",
      "text/plain": [
       "<Figure size 1080x360 with 1 Axes>"
      ]
     },
     "metadata": {
      "needs_background": "light"
     },
     "output_type": "display_data"
    }
   ],
   "source": [
    "fig = plt.figure(figsize=(15, 5))\n",
    "sns.countplot(data = dff, x='BorrowerState', order = dff['BorrowerState'].value_counts().index)\n",
    "plt.xticks(rotation=90)\n",
    "plt.title('Number of Borrowers per State', fontweight = 'bold');"
   ]
  },
  {
   "cell_type": "markdown",
   "metadata": {},
   "source": [
    "### Observation"
   ]
  },
  {
   "cell_type": "markdown",
   "metadata": {},
   "source": [
    "> As seen in the bar chart above, California is the state with the highest number of borrowers. Recall that the data set was gotten from Prosper, a San Francisco, California-based company, It is understandable if most of the borrowers are from the same city as their headquarters. Other cities with large number of borrowers include New york, Texas, Florida, Illinois etc. Ohio and Georgia have eaqual number of borrowers.   \n",
    "Further research from [this source]('https://en.wikipedia.org/wiki/List_of_states_and_territories_of_the_United_States') shows that the above named cities are among the most populated cities in the United States of America."
   ]
  },
  {
   "cell_type": "markdown",
   "metadata": {},
   "source": [
    "## Bivariate Exploration\n",
    "\n",
    "> In this section, we will investigate relationships between pairs of variables in our\n",
    "data set. The variables mostly cover those that have been explored in the previous section (univariate exploration)."
   ]
  },
  {
   "cell_type": "markdown",
   "metadata": {},
   "source": [
    "### Question 7:"
   ]
  },
  {
   "cell_type": "markdown",
   "metadata": {},
   "source": [
    "**What is the relationship between Income, Loan amount and Prosper rating?**"
   ]
  },
  {
   "cell_type": "markdown",
   "metadata": {},
   "source": [
    "### Visualisation"
   ]
  },
  {
   "cell_type": "code",
   "execution_count": 40,
   "metadata": {
    "scrolled": false
   },
   "outputs": [
    {
     "data": {
      "image/png": "[encoded data removed]",
      "text/plain": [
       "<Figure size 720x360 with 1 Axes>"
      ]
     },
     "metadata": {
      "needs_background": "light"
     },
     "output_type": "display_data"
    },
    {
     "data": {
      "image/png": "[encoded data removed]",
      "text/plain": [
       "<Figure size 720x360 with 1 Axes>"
      ]
     },
     "metadata": {
      "needs_background": "light"
     },
     "output_type": "display_data"
    }
   ],
   "source": [
    "plt.figure(figsize = [10,5])\n",
    "\n",
    "\n",
    "sns.barplot(data = dff, x = 'ProsperRating', y='StatedMonthlyIncome', color = 'purple')\n",
    "plt.ylabel('Monthly Income')\n",
    "plt.xlabel('Prosper Rating')\n",
    "plt.title('Relationship Between Prosper Rating and Monthly Income', fontweight = 'bold')\n",
    "plt.show()\n",
    "\n",
    "plt.figure(figsize = [10,5])\n",
    "\n",
    "\n",
    "sns.barplot(data = dff, x = 'ProsperRating', y='LoanOriginalAmount', color = 'pink')\n",
    "plt.ylabel('Loan Amount')\n",
    "plt.xlabel('Prosper Rating')\n",
    "plt.title('Relationship Between Prosper Rating and Loan Amount', fontweight = 'bold')\n",
    "plt.show()"
   ]
  },
  {
   "cell_type": "code",
   "execution_count": 41,
   "metadata": {},
   "outputs": [
    {
     "data": {
      "image/png": "[encoded data removed]",
      "text/plain": [
       "<Figure size 1080x360 with 1 Axes>"
      ]
     },
     "metadata": {
      "needs_background": "light"
     },
     "output_type": "display_data"
    }
   ],
   "source": [
    "plt.figure(figsize=[15,5])\n",
    "orders = dff.groupby(['IncomeRange'])['LoanOriginalAmount'].mean().index\n",
    "sns.barplot(data = dff, x='IncomeRange', y='LoanOriginalAmount',order = orders)\n",
    "plt.ylabel('Amount of Loan taken')\n",
    "plt.xlabel('Income Range of Borrower')\n",
    "plt.title('Relationship Between Income Range and Amount of Loan Taken', fontweight = 'bold')\n",
    "plt.xticks(rotation=15)\n",
    "plt.show()"
   ]
  },
  {
   "cell_type": "markdown",
   "metadata": {},
   "source": [
    "### Observation"
   ]
  },
  {
   "cell_type": "markdown",
   "metadata": {},
   "source": [
    "> The relationship between prosper rating and monthly income is a direct relationship. The prosper rating ranges from AA, A, B, C, D, E to HR with AA being the best rating and HR being the worst. From the purple bar chart above, it is observed that those with higher monthly income get the best prosper ratings and those with lower monthly income get poor prosper rating.  \n",
    "Again, the relationship between prosper rating and the amount of loan taken is a direct relationship as seen in the pink bar chart above. Those with the best prosper rating get the highest amount of loan and those with poor prosper rating get the least amount as loan.  \n",
    "Comparing the income range of the borrower and the amount of loan taken, there is a general direct proportionality. The highest income earners took the highest amount of loan. It is worthy of note that the average amount of loan taken by unemployed borrowers is higher that those who earn between one dollar to twenty four thousand, nine hundred and ninety nine dollars (1- 24,999) which is different from the general trend observed. Also, borrowers that fall under the zero dollar income range category took higher amount of loans that the unemployed borrowers."
   ]
  },
  {
   "cell_type": "markdown",
   "metadata": {},
   "source": [
    "### Question 8:"
   ]
  },
  {
   "cell_type": "markdown",
   "metadata": {},
   "source": [
    "**How does the Prosper Score and Rating affect Borrower's APR?**"
   ]
  },
  {
   "cell_type": "markdown",
   "metadata": {},
   "source": [
    "### Visualisation"
   ]
  },
  {
   "cell_type": "code",
   "execution_count": 42,
   "metadata": {},
   "outputs": [
    {
     "data": {
      "image/png": "[encoded data removed]",
      "text/plain": [
       "<Figure size 1080x360 with 2 Axes>"
      ]
     },
     "metadata": {
      "needs_background": "light"
     },
     "output_type": "display_data"
    }
   ],
   "source": [
    "plt.figure(figsize=[15,5])\n",
    "\n",
    "plt.subplot(1,2,1)\n",
    "sns.boxplot(data = dff, x = 'ProsperScore', y = 'BorrowerAPR')\n",
    "plt.title('Relationship Between Prosper Score and Borrower APR', fontweight = 'bold')\n",
    "\n",
    "plt.subplot(1,2,2)\n",
    "sns.boxplot(data = dff, x='ProsperRating', y='BorrowerAPR')\n",
    "plt.title('Relationship Between Prosper Rating and Borrower APR', fontweight = 'bold');"
   ]
  },
  {
   "cell_type": "markdown",
   "metadata": {},
   "source": [
    "### Observation"
   ]
  },
  {
   "cell_type": "markdown",
   "metadata": {},
   "source": [
    ">As the prosper score increases from 1 to 11 with 1 being the least and 11 being the highest score, the borrower's annual percentage rate reduces. This means that those who score high will get lower interest on their loan compared to those who have low prosper score. This is an inverse relationship. To reduce the amount of interest to be paid on loans, users should strive to get higher prosper score.  \n",
    "Similarly, borrowers with good prosper ratings like AA, A and B get to pay lower interest than those with poor ratings like HR and E pay high interest on loans."
   ]
  },
  {
   "cell_type": "markdown",
   "metadata": {},
   "source": [
    "### Question 9:"
   ]
  },
  {
   "cell_type": "markdown",
   "metadata": {},
   "source": [
    "**What is the relationship between Borrower's APR and Lender's Yield?**"
   ]
  },
  {
   "cell_type": "markdown",
   "metadata": {},
   "source": [
    "### Visualisation"
   ]
  },
  {
   "cell_type": "code",
   "execution_count": 43,
   "metadata": {},
   "outputs": [
    {
     "data": {
      "image/png": "[encoded data removed]",
      "text/plain": [
       "<Figure size 720x360 with 1 Axes>"
      ]
     },
     "metadata": {
      "needs_background": "light"
     },
     "output_type": "display_data"
    }
   ],
   "source": [
    "plt.figure(figsize = [10,5])\n",
    "\n",
    "sns.lineplot(data = dff, x = 'LenderYield', y='BorrowerAPR', color = 'gold')\n",
    "plt.ylabel('BorrowerAPR')\n",
    "plt.xlabel('LenderYield')\n",
    "plt.title('Relationship Between Borrower APR and Lender Yield', fontweight = 'bold')\n",
    "plt.show()"
   ]
  },
  {
   "cell_type": "markdown",
   "metadata": {},
   "source": [
    "### Observation"
   ]
  },
  {
   "cell_type": "markdown",
   "metadata": {},
   "source": [
    "> As the borrower's APR increases, lender's yield increases as well. The more interest the borrower pays, the more yield the lender gets from such loan transaction."
   ]
  },
  {
   "cell_type": "markdown",
   "metadata": {},
   "source": [
    "### Question 10:"
   ]
  },
  {
   "cell_type": "markdown",
   "metadata": {},
   "source": [
    "**How does the Prosper rating and score affect Lender yield?**"
   ]
  },
  {
   "cell_type": "markdown",
   "metadata": {},
   "source": [
    "### Visualisation"
   ]
  },
  {
   "cell_type": "code",
   "execution_count": 44,
   "metadata": {},
   "outputs": [
    {
     "data": {
      "image/png": "[encoded data removed]",
      "text/plain": [
       "<Figure size 720x360 with 1 Axes>"
      ]
     },
     "metadata": {
      "needs_background": "light"
     },
     "output_type": "display_data"
    },
    {
     "data": {
      "image/png": "[encoded data removed]",
      "text/plain": [
       "<Figure size 720x360 with 1 Axes>"
      ]
     },
     "metadata": {
      "needs_background": "light"
     },
     "output_type": "display_data"
    }
   ],
   "source": [
    "plt.figure(figsize = [10,5])\n",
    "\n",
    "sns.lineplot(data = dff, x = 'ProsperRating', y='LenderYield', color = 'purple')\n",
    "plt.ylabel('Lender Yield')\n",
    "plt.xlabel('Prosper Rating')\n",
    "plt.title('Relationship Between Prosper Rating and Lender Yield', fontweight = 'bold')\n",
    "plt.show()\n",
    "\n",
    "plt.figure(figsize = [10,5])\n",
    "sns.lineplot(data = dff, x = 'ProsperScore', y='LenderYield', color = 'red')\n",
    "plt.ylabel('Lender Yield')\n",
    "plt.xlabel('Prosper Score')\n",
    "plt.title('Relationship Between Prosper Score and Lender Yield', fontweight = 'bold')\n",
    "plt.show()"
   ]
  },
  {
   "cell_type": "markdown",
   "metadata": {},
   "source": [
    "### Observation"
   ]
  },
  {
   "cell_type": "markdown",
   "metadata": {},
   "source": [
    ">Lender's yield is higher when the borrower has poor ratings and low prosper score and vice versa. This can be attributed to the fact that poor ratings and low prosper scores attract high borrower APR consequently increasing the lender's yield."
   ]
  },
  {
   "cell_type": "markdown",
   "metadata": {},
   "source": [
    "### Question 11:"
   ]
  },
  {
   "cell_type": "markdown",
   "metadata": {},
   "source": [
    "**Which occupation borrows the most amount of money?**"
   ]
  },
  {
   "cell_type": "markdown",
   "metadata": {},
   "source": [
    "### Visualisation"
   ]
  },
  {
   "cell_type": "code",
   "execution_count": 45,
   "metadata": {},
   "outputs": [
    {
     "data": {
      "image/png": "[encoded data removed]",
      "text/plain": [
       "<Figure size 1080x360 with 1 Axes>"
      ]
     },
     "metadata": {
      "needs_background": "light"
     },
     "output_type": "display_data"
    }
   ],
   "source": [
    "plt.figure(figsize=[15,5])\n",
    "orders = dff.groupby(['Occupation'])['LoanOriginalAmount'].mean().sort_values().index\n",
    "sns.barplot(data = dff, x='Occupation', y='LoanOriginalAmount',order = orders)\n",
    "plt.ylabel('Amount of Loan taken')\n",
    "plt.xlabel('Occupation of Borrower')\n",
    "plt.title('Occupation and Amount of Loan Taken', fontweight = 'bold')\n",
    "plt.xticks(rotation=90)\n",
    "plt.show()"
   ]
  },
  {
   "cell_type": "markdown",
   "metadata": {},
   "source": [
    "### Observation"
   ]
  },
  {
   "cell_type": "markdown",
   "metadata": {},
   "source": [
    "> **Wow!!** What a discovery! Judges, Pharmacists and Doctor's take the highest amount of loan on the prosper platform and students take the least amount of loan. The fact that judges, pharmacists and doctors are high income earners and we've established that higher income range goes hand in hand with high amount of loan justisfies this discovery."
   ]
  },
  {
   "cell_type": "markdown",
   "metadata": {},
   "source": [
    "### Question 12:"
   ]
  },
  {
   "cell_type": "markdown",
   "metadata": {},
   "source": [
    "**Which occupation takes loan most frequently?**"
   ]
  },
  {
   "cell_type": "markdown",
   "metadata": {},
   "source": [
    "### Visualisation"
   ]
  },
  {
   "cell_type": "code",
   "execution_count": 46,
   "metadata": {},
   "outputs": [
    {
     "data": {
      "image/png": "[encoded data removed]",
      "text/plain": [
       "<Figure size 1080x360 with 1 Axes>"
      ]
     },
     "metadata": {
      "needs_background": "light"
     },
     "output_type": "display_data"
    }
   ],
   "source": [
    "fig = plt.figure(figsize=(15, 5))\n",
    "sns.countplot(data = dff, x='Occupation', order = dff['Occupation'].value_counts().index)\n",
    "plt.xticks(rotation=90)\n",
    "plt.title('Occupation and Prevalence of Loan-taking', fontweight = 'bold');"
   ]
  },
  {
   "cell_type": "markdown",
   "metadata": {},
   "source": [
    "### Observation"
   ]
  },
  {
   "cell_type": "markdown",
   "metadata": {},
   "source": [
    "> Again, students take loan least frequently and borrowers whose occupation fall under the 'other' category are the most prevalent loan takers. Notice how the frequency of loan taking amongst judges, pharmacists and doctors is very low yet they take the highest amount as loan. This just implies that judges, pharmacists or doctors in the United states seldom take loan but when they do, they are accorded a large amount since their job/career path gives very reliable income stream and lenders can be rest assured that defaulters will rarely come from this group. "
   ]
  },
  {
   "cell_type": "markdown",
   "metadata": {},
   "source": [
    "Because i will become a pharmacist soon and I'm so excited about the profession, permit me to run a visualisation to satisfy my curiosity."
   ]
  },
  {
   "cell_type": "code",
   "execution_count": 47,
   "metadata": {},
   "outputs": [
    {
     "data": {
      "image/png": "[encoded data removed]",
      "text/plain": [
       "<Figure size 720x576 with 1 Axes>"
      ]
     },
     "metadata": {},
     "output_type": "display_data"
    }
   ],
   "source": [
    "#Selecting only borrowers who are pharmacists\n",
    "\n",
    "Rx = dff[(dff['Occupation'] == 'Pharmacist')]\n",
    "\n",
    "#Plotting a piechart for the number of home owners\n",
    "Rx['HomeOwner?'].value_counts().plot(kind= 'pie', figsize= (10,8), startangle= 360, colors=['yellow', 'red'],\n",
    "                                     labels = ['Rx with house', 'Rx without house'], autopct='%1.1f%%')\n",
    "plt.title('Pharmacists who are home owners', fontweight = 'bold');"
   ]
  },
  {
   "cell_type": "markdown",
   "metadata": {},
   "source": [
    "80% of the pharmacists own a house, yippie, my chances of owning a house after graduating is on the high side!"
   ]
  },
  {
   "cell_type": "markdown",
   "metadata": {},
   "source": [
    "### Question 13:"
   ]
  },
  {
   "cell_type": "markdown",
   "metadata": {},
   "source": [
    "**What is the correlation between the numeric variables in the data set?**"
   ]
  },
  {
   "cell_type": "markdown",
   "metadata": {},
   "source": [
    "### Visualisation"
   ]
  },
  {
   "cell_type": "code",
   "execution_count": 48,
   "metadata": {},
   "outputs": [
    {
     "data": {
      "image/png": "[encoded data removed]",
      "text/plain": [
       "<Figure size 720x576 with 2 Axes>"
      ]
     },
     "metadata": {
      "needs_background": "light"
     },
     "output_type": "display_data"
    }
   ],
   "source": [
    "plt.figure(figsize= [10, 8])\n",
    "sns.heatmap(data=dff.corr(), annot=True, fmt='.2f', \n",
    "            cmap='vlag_r', vmin=-1, vmax=1, linewidth=3)\n",
    "plt.xticks(rotation = 90)\n",
    "plt.title('Correlation Plot of Numeric Variables', fontweight = 'bold');"
   ]
  },
  {
   "cell_type": "markdown",
   "metadata": {},
   "source": [
    "### Observation"
   ]
  },
  {
   "cell_type": "markdown",
   "metadata": {},
   "source": [
    "> There is a strong positive correlation between BorrowerAPR, BorrowerRate and LenderYield. There is a weak negative correlation between LoanOriginalAmount and the variables stated earlier (ie BorrowerAPR, BorrowerRate and LenderYield)."
   ]
  },
  {
   "cell_type": "markdown",
   "metadata": {},
   "source": [
    "## Multivariate Exploration\n",
    "\n",
    "> In this section, we will create plots of three or more variables to investigate our data even\n",
    "further, justify our investigations and follow from\n",
    "our work in the previous sections."
   ]
  },
  {
   "cell_type": "markdown",
   "metadata": {},
   "source": [
    "### Question 14:"
   ]
  },
  {
   "cell_type": "markdown",
   "metadata": {},
   "source": [
    "**Discuss the relationship among ProsperRating, BorrowerAPR, LoanOriginalAmount and HomeOwner?**"
   ]
  },
  {
   "cell_type": "markdown",
   "metadata": {},
   "source": [
    "### Visualisation"
   ]
  },
  {
   "cell_type": "code",
   "execution_count": 49,
   "metadata": {},
   "outputs": [
    {
     "data": {
      "text/plain": [
       "'Multivariate Exploration of ProsperRating, LoanOriginalAmount, BorrowerAPR and HomeOwner?'"
      ]
     },
     "execution_count": 49,
     "metadata": {},
     "output_type": "execute_result"
    },
    {
     "data": {
      "image/png": "[encoded data removed]",
      "text/plain": [
       "<Figure size 957.6x273.6 with 14 Axes>"
      ]
     },
     "metadata": {
      "needs_background": "light"
     },
     "output_type": "display_data"
    }
   ],
   "source": [
    "viz1 = sns.FacetGrid(data = dff, col = 'ProsperRating', row = 'HomeOwner?', size = 1.9, margin_titles = True)\n",
    "viz1.map(plt.scatter, 'BorrowerAPR', 'LoanOriginalAmount', color = 'purple')\n",
    "'Multivariate Exploration of ProsperRating, LoanOriginalAmount, BorrowerAPR and HomeOwner?'"
   ]
  },
  {
   "cell_type": "markdown",
   "metadata": {},
   "source": [
    "### Observation"
   ]
  },
  {
   "cell_type": "markdown",
   "metadata": {},
   "source": [
    "> The first thing to observe from the above plot is that the graph of BorrowerAPR against LoanOriginalAmount for various ProsperRating when the borrower is an home owner when they are not is quite difficult to tell apart. The distribution is very similar and that means, owning a house doesn't play a much significant role in determining the LoanOriginalAmount, the BorrowerAPR or the ProsperRating. Secondly, the individual graphs gradually move from left, closer to the y-plane to right, farther from the y-plane. This shows that the BorrowerAPR increases as the ProsperRating drops, from AA to HR. Also, the height of the individual graphs reduces noticeably as we move from left where the rating is best to right where the rating is worst. This confirms that borrowers with the best ratings get the highest amount of loan and borrowers with the worst ratings get the least amount as loan."
   ]
  },
  {
   "cell_type": "markdown",
   "metadata": {},
   "source": [
    "### Question 15:"
   ]
  },
  {
   "cell_type": "markdown",
   "metadata": {},
   "source": [
    "**Find out the correlation between the average BorrowerRate and LoanOriginalAmount of being an home owner or otherwise with respect to the Term of loan**"
   ]
  },
  {
   "cell_type": "markdown",
   "metadata": {},
   "source": [
    "### Visualisation"
   ]
  },
  {
   "cell_type": "code",
   "execution_count": 50,
   "metadata": {},
   "outputs": [
    {
     "data": {
      "image/png": "[encoded data removed]",
      "text/plain": [
       "<Figure size 1080x576 with 3 Axes>"
      ]
     },
     "metadata": {
      "needs_background": "light"
     },
     "output_type": "display_data"
    }
   ],
   "source": [
    "plt.figure(figsize = [15,8])\n",
    "plt.subplot(2,2,2)\n",
    "ax = sns.pointplot(data = dff, x = 'HomeOwner?', y = 'LoanOriginalAmount', hue = 'Term',\n",
    "                  dodge = 0.3, linestyles = \"\")\n",
    "plt.title('Loan Original Amount and Term By Home Ownership', fontweight = 'bold')\n",
    "plt.xticks([0,1], ['Home Owner', 'Not an Home Owner'])\n",
    "\n",
    "\n",
    "plt.subplot(2,2,1)\n",
    "viz2 = dff.groupby(['HomeOwner?', 'Term']).mean()['BorrowerRate']\n",
    "viz2 = viz2.reset_index(name = 'BorrowerRate_avg')\n",
    "viz2 = viz2.pivot(index = 'Term', columns = 'HomeOwner?',\n",
    "                            values = 'BorrowerRate_avg')\n",
    "sns.heatmap(viz2, annot = True, fmt = '.3f',\n",
    "           cbar_kws = {'label' : 'mean(BorrowerRate)'})\n",
    "plt.title('Average Rate and Term By Home Ownership', fontweight = 'bold');"
   ]
  },
  {
   "cell_type": "markdown",
   "metadata": {},
   "source": [
    "### Observation"
   ]
  },
  {
   "cell_type": "markdown",
   "metadata": {},
   "source": [
    "> From the plot on the left, it can be observed that borrowers who are home owners and took a 12 monnths loan got the least rate and borrowers who do not own a house and took a 36 months loan got the highest rate overall. At every point and term, be it 12, 36 or 60 months, home owners got a lower rate compared to those who do not own a house.   \n",
    "From the plot on the right, there is a similar trend in the change in LoaanOriginalAmount with Term for home owners and those who do not own a house. The longer the term of the loan, the higher the original loan amount. Home owners also tend to get a higher LoanOriginalAmount compared to borrowers who do not own a house."
   ]
  },
  {
   "cell_type": "markdown",
   "metadata": {},
   "source": [
    "## Conclusions\n",
    "\n",
    "After exploring the dataset, it was found that more than half of the loan is still active, ie the borrowers are still running their loan term which is mostly a three year spanned loan and that **Debt consolidation** was the most common reason for taking loan. It was also found that the distribution of home owners is even, 53% of borrowers own a house. Majority of the borrowers come from California, New York, Texas and Florida and are either Professionals, Executives or belong to the 'Other' category of Occupation. Prosper score and Prosper rating is a good determinant of the borrower's rate, annual percentage rate (APR), lender's yield, loan amount etc.\n",
    "\n",
    "In conclusion, as a borrower who seeks to use the prosper loan platform, one should strive to get good prosper ratings and high prosper score by possessing one or more of the following features;\n",
    "1) Employed  \n",
    "2) High income earner  \n",
    "3) Home Owner  \n",
    "4) Be a Pharmacist, Judge or Doctor  \n",
    "5) Take long term loans etc.  \n",
    "\n",
    "As a lender who seeks to use the prosper loan platform, one should bare the following in mind;\n",
    "1) Low income earners bring the highest yield  \n",
    "2) High income earners bring lower risk   \n",
    "3) Ownership of a house is not a major determinant but can be considered  \n",
    "4) Long term loans give lower yield   \n",
    "5) Cities like California, New York, Texas and Florida have the highest amount of borrowers.  "
   ]
  }
 ],
 "metadata": {
  "kernelspec": {
   "display_name": "Python 3 (ipykernel)",
   "language": "python",
   "name": "python3"
  },
  "language_info": {
   "codemirror_mode": {
    "name": "ipython",
    "version": 3
   },
   "file_extension": ".py",
   "mimetype": "text/x-python",
   "name": "python",
   "nbconvert_exporter": "python",
   "pygments_lexer": "ipython3",
   "version": "3.9.12"
  }
 },
 "nbformat": 4,
 "nbformat_minor": 4
}
